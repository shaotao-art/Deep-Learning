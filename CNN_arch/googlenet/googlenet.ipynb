{
 "cells": [
  {
   "cell_type": "code",
   "execution_count": 2,
   "metadata": {},
   "outputs": [],
   "source": [
    "import torch\n",
    "import torch.nn as nn"
   ]
  },
  {
   "cell_type": "code",
   "execution_count": 3,
   "metadata": {},
   "outputs": [],
   "source": [
    "class ConvBlock(nn.Module):\n",
    "    def __init__(self, inchannels, outchannels, kernel_size, stride, padding) -> None:\n",
    "        super(ConvBlock, self).__init__()\n",
    "        self.conv = nn.Conv2d(inchannels, outchannels, kernel_size, stride, padding)\n",
    "        self.relu = nn.ReLU()\n",
    "        self.batchnorm = nn.BatchNorm2d(outchannels)\n",
    "\n",
    "    def forward(self, x):\n",
    "        return self.relu(self.batchnorm(self.conv(x)))"
   ]
  },
  {
   "cell_type": "code",
   "execution_count": 9,
   "metadata": {},
   "outputs": [],
   "source": [
    "class InceptionBlock(nn.Module):\n",
    "    def __init__(self, config) -> None:\n",
    "        super(InceptionBlock, self).__init__()\n",
    "        inchannels = config[0]\n",
    "        self.config = config[1:]\n",
    "\n",
    "        self.conv_1x1 = ConvBlock(inchannels,\n",
    "                             self.config[0],\n",
    "                             (1,1),\n",
    "                             1,\n",
    "                             (0,0))\n",
    "        self.conv_3x3_reduce = ConvBlock(inchannels,\n",
    "                                    self.config[1],\n",
    "                                    (3,3),\n",
    "                                    1,\n",
    "                                    (1,1))\n",
    "        self.conv_3x3 = ConvBlock(self.config[1],\n",
    "                             self.config[2],\n",
    "                             (3,3),\n",
    "                             1,\n",
    "                             (1,1))\n",
    "        self.conv_5x5_reduce = ConvBlock(inchannels,\n",
    "                                    self.config[3],\n",
    "                                    (5,5),\n",
    "                                    1,\n",
    "                                    (2,2))\n",
    "        self.conv_5x5 = ConvBlock(self.config[3],\n",
    "                             self.config[4],\n",
    "                             (5,5),\n",
    "                             1,\n",
    "                             (2,2))\n",
    "        self.max_pool = nn.MaxPool2d(kernel_size=(3,3),\n",
    "                                stride=(1,1),\n",
    "                                padding=(1,1))\n",
    "        self.pool_proj = ConvBlock(inchannels,\n",
    "                              self.config[5],\n",
    "                              (1,1),\n",
    "                              1,\n",
    "                              (0,0))\n",
    "        \n",
    "\n",
    "    def forward(self, x):\n",
    "        return torch.cat((self.conv_1x1(x),\n",
    "                          self.conv_3x3(self.conv_3x3_reduce(x)),\n",
    "                          self.conv_5x5(self.conv_5x5_reduce(x)),\n",
    "                          self.pool_proj(self.max_pool(x))), dim=1)\n",
    "            \n",
    "        "
   ]
  },
  {
   "cell_type": "code",
   "execution_count": 10,
   "metadata": {},
   "outputs": [
    {
     "name": "stdout",
     "output_type": "stream",
     "text": [
      "done\n",
      "done\n",
      "torch.Size([16, 480, 28, 28])\n"
     ]
    }
   ],
   "source": [
    "b = InceptionBlock([256, 128, 128, 192, 32, 96, 64])\n",
    "x = torch.randn((16, 256, 28, 28))\n",
    "print(b(x).shape)"
   ]
  },
  {
   "cell_type": "code",
   "execution_count": 135,
   "metadata": {},
   "outputs": [],
   "source": [
    "class GoogleNet(nn.Module):\n",
    "    def __init__(self, inchannel, num_class) -> None:\n",
    "        super().__init__()\n",
    "        self.conv1 = nn.Conv2d(inchannel, 64, (7,7), 2, (3,3))\n",
    "        self.max_pool1 = nn.MaxPool2d((3,3), 2, (1,1))\n",
    "        self.conv2 = nn.Conv2d(64, 192, (3,3), 1, (1,1))\n",
    "        self.max_pool2 = nn.MaxPool2d((3,3), 2, (1,1))\n",
    "        # in_channel #1x1 #3x3reduced #3x3 #5x5reduced #5x5 #pool pro\n",
    "        self.config = {\n",
    "            'incep_3a' : [192, 64, 96, 128, 16, 32, 32],\n",
    "            'incep_3b' : [256, 128, 128, 192, 32, 96, 64],\n",
    "\n",
    "            'incep_4a' : [480, 192, 96, 208, 16, 48, 64],\n",
    "            'incep_4b' : [512, 160, 112, 224, 24, 64, 64],\n",
    "            'incep_4c' : [512, 128, 128, 256, 24, 64, 64],\n",
    "            'incep_4d' : [512, 112, 144, 288, 32, 64, 64],\n",
    "            'incep_4e' : [528, 256, 160, 320, 32,128, 128],\n",
    "\n",
    "            'incep_5a' : [832, 256, 160, 320, 32, 128, 128],\n",
    "            'incep_5b' : [832, 384, 192, 384, 48, 128, 128]\n",
    "            }\n",
    "        self.IC_3a = InceptionBlock(self.config[\"incep_3a\"])\n",
    "        self.IC_3b = InceptionBlock(self.config[\"incep_3b\"])\n",
    "        self.max_pool3 = nn.MaxPool2d((3,3), 2, (1,1))\n",
    "    \n",
    "        self.IC_4a = InceptionBlock(self.config[\"incep_4a\"])\n",
    "        self.IC_4b = InceptionBlock(self.config[\"incep_4b\"])\n",
    "        self.IC_4c = InceptionBlock(self.config[\"incep_4c\"])\n",
    "        self.IC_4d = InceptionBlock(self.config[\"incep_4d\"])\n",
    "        self.IC_4e = InceptionBlock(self.config[\"incep_4e\"])\n",
    "        self.max_pool4 = nn.MaxPool2d((3,3), 2, (1,1))\n",
    "\n",
    "        self.IC_5a = InceptionBlock(self.config[\"incep_5a\"])\n",
    "        self.IC_5b = InceptionBlock(self.config[\"incep_5b\"])        \n",
    "        self.avg_pool = nn.AvgPool2d((7,7), 1, (0,0))\n",
    "        self.fcs = nn.Sequential(\n",
    "            nn.Dropout(0.4),\n",
    "            nn.Linear(1024, num_class),\n",
    "        )\n",
    "    def forward(self, x):\n",
    "        x = self.max_pool1(self.conv1(x))\n",
    "\n",
    "        x = self.max_pool2(self.conv2(x))\n",
    "\n",
    "        x = self.IC_3b(self.IC_3a(x))\n",
    "        x = self.max_pool3(x)\n",
    "\n",
    "        x = self.IC_4e(self.IC_4d(self.IC_4c(self.IC_4b(self.IC_4a(x)))))\n",
    "        x = self.max_pool4(x)\n",
    "\n",
    "        x = self.IC_5b(self.IC_5a(x))\n",
    "        x = self.avg_pool(x)\n",
    "        x = x.view(x.shape[0], -1)\n",
    "        return self.fcs(x)\n",
    "\n",
    "        "
   ]
  },
  {
   "cell_type": "code",
   "execution_count": 136,
   "metadata": {},
   "outputs": [],
   "source": [
    "net = GoogleNet(3, 120)\n",
    "x = torch.randn((16, 3, 224, 224))\n",
    "print(net(x).shape)"
   ]
  }
 ],
 "metadata": {
  "interpreter": {
   "hash": "3af478167759ae4c710e12d24127bdfea349371295ae8f284cff01b249577fd9"
  },
  "kernelspec": {
   "display_name": "Python 3.7.11 64-bit ('snake': conda)",
   "language": "python",
   "name": "python3"
  },
  "language_info": {
   "codemirror_mode": {
    "name": "ipython",
    "version": 3
   },
   "file_extension": ".py",
   "mimetype": "text/x-python",
   "name": "python",
   "nbconvert_exporter": "python",
   "pygments_lexer": "ipython3",
   "version": "3.7.11"
  },
  "orig_nbformat": 4
 },
 "nbformat": 4,
 "nbformat_minor": 2
}
