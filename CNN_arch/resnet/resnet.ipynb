{
 "cells": [
  {
   "cell_type": "code",
   "execution_count": 1,
   "metadata": {},
   "outputs": [],
   "source": [
    "import torch\n",
    "import torch.nn as nn"
   ]
  },
  {
   "cell_type": "code",
   "execution_count": 2,
   "metadata": {},
   "outputs": [],
   "source": [
    "class ResBlock(nn.Module):\n",
    "    def __init__(self, config, conv2_flag) -> None:\n",
    "        super().__init__()\n",
    "        self.conv2_flag = conv2_flag\n",
    "        self.repeat_time = config[4]\n",
    "        self.config = config\n",
    "\n",
    "\n",
    "        self.first_conv1 = nn.Conv2d(self.config[0],\n",
    "                        self.config[1],\n",
    "                        (1,1),\n",
    "                        1,\n",
    "                        (0,0))\n",
    "        self.later_conv1 = nn.Conv2d(self.config[3],\n",
    "                        self.config[1],\n",
    "                        (1,1),\n",
    "                        1,\n",
    "                        (0,0))\n",
    "        # conv2 does not need do downsampling\n",
    "        # else one of the conv3x3s will have stride == 2 to do downsampling\n",
    "        if self.conv2_flag == False:\n",
    "            self.conv2_downsample = nn.Conv2d(self.config[1],\n",
    "                                            self.config[2],\n",
    "                                            (3,3),\n",
    "                                            2,\n",
    "                                            (1,1))\n",
    "        self.conv2 = nn.Conv2d(self.config[1],\n",
    "                                        self.config[2],\n",
    "                                        (3,3),\n",
    "                                        1,\n",
    "                                        (1,1))\n",
    "        self.conv3 = nn.Conv2d(self.config[2],\n",
    "                                        self.config[3],\n",
    "                                        (1,1),\n",
    "                                        1,\n",
    "                                        (0,0))\n",
    "    \n",
    "    def _first_subblock(self, x, inchannel, outchannel):\n",
    "        # if the inchannel == block output channel\n",
    "        #      do elementwise add\n",
    "        # else\n",
    "        #      do conv1x1 to modify input channel then elementwise add\n",
    "        # TIPS:\n",
    "        # for conv2 block  \n",
    "        #     1. all subblock can elementwise\n",
    "        #     2. without any downsampling \n",
    "        # for other convN (N != 2), \n",
    "        #  first subblock: do conv1x1 and downsampling\n",
    "        #  other subblocks: elementwise add\n",
    "        _ = self.first_conv1(x)\n",
    "        _ = self.conv2_downsample(_)\n",
    "        _ = self.conv3(_)\n",
    "        conv = nn.Conv2d(inchannel, outchannel, (2,2), 2, (0,0))\n",
    "        return _ + conv(x) \n",
    "        \n",
    "    def _later_subblock(self, x):\n",
    "        _ = self.later_conv1(x)\n",
    "        _ = self.conv2(_)\n",
    "        _ = self.conv3(_)\n",
    "        return _ + x           \n",
    "\n",
    "    def _conv2_first_subblock(self, x, inchannel, outchannel):\n",
    "        _ = self.first_conv1(x)\n",
    "        _ = self.conv2(_)\n",
    "        _ = self.conv3(_)\n",
    "        conv = nn.Conv2d(inchannel, outchannel, (1,1), 1, (0,0))\n",
    "        x = _ + conv(x)\n",
    "\n",
    "        \n",
    "        return x\n",
    "\n",
    "    def forward(self, x):\n",
    "        if self.conv2_flag ==False:\n",
    "            x = self._first_subblock(x, self.config[0], self.config[3])\n",
    "            for i in range(self.repeat_time - 1):\n",
    "                x = self._later_subblock(x)\n",
    "            return x\n",
    "        # if conv2_flag == True\n",
    "        # first subblock do only the noneelementwise add\n",
    "        x = self._conv2_first_subblock(x, self.config[0], self.config[3]) \n",
    "        for i in range(self.repeat_time):\n",
    "            x = self._later_subblock(x)\n",
    "        return x        "
   ]
  },
  {
   "cell_type": "code",
   "execution_count": 3,
   "metadata": {},
   "outputs": [],
   "source": [
    "class ResNet(nn.Module):\n",
    "    def __init__(self, inchannel, num_classes) -> None:\n",
    "        super().__init__()\n",
    "        self.config = {\n",
    "        # in_channel conv1channel conv2channel conv3channel repeat_time\n",
    "        # below: arch of res50\n",
    "            'conv2_x': [64, 64, 64, 256, 3],\n",
    "            'conv3_x': [256, 128, 128, 512, 4],\n",
    "            'conv4_x': [512, 256, 256, 1024, 6],\n",
    "            'conv5_x': [1024, 512, 512, 2048, 3]\n",
    "                }                \n",
    "        self.conv1 = nn.Conv2d(inchannel, 64, (7,7), 2, (3,3))\n",
    "        self.max_pool = nn.MaxPool2d((3,3), 2, (1,1))\n",
    "        \n",
    "        self.Conv2_X = ResBlock(self.config[\"conv2_x\"], True)\n",
    "        self.Conv3_X = ResBlock(self.config[\"conv3_x\"], False)\n",
    "        self.Conv4_X = ResBlock(self.config[\"conv4_x\"], False)\n",
    "        self.Conv5_X = ResBlock(self.config[\"conv5_x\"], False)\n",
    "        self.avg_pool = nn.AvgPool2d((7,7), 1, (0,0))\n",
    "        self.fcs = nn.Sequential(\n",
    "            nn.Dropout(0.4),\n",
    "            nn.Linear(2048, 1000),\n",
    "        )\n",
    "    def forward(self, x):\n",
    "        x = self.max_pool(self.conv1(x))\n",
    "        x = self.Conv2_X(x)\n",
    "        x = self.Conv3_X(x)\n",
    "        x = self.Conv4_X(x)\n",
    "        x = self.Conv5_X(x)\n",
    "        x = self.avg_pool(x)\n",
    "        x = x.reshape((x.shape[0],-1)) \n",
    "        x = self.fcs(x)\n",
    "        return x\n",
    "        "
   ]
  },
  {
   "cell_type": "code",
   "execution_count": 7,
   "metadata": {},
   "outputs": [],
   "source": [
    "device = \"cuda\" if torch.cuda.is_available() else \"cpu\""
   ]
  },
  {
   "cell_type": "code",
   "execution_count": 4,
   "metadata": {},
   "outputs": [
    {
     "name": "stdout",
     "output_type": "stream",
     "text": [
      "torch.Size([16, 1000])\n"
     ]
    }
   ],
   "source": [
    "net = ResNet(3, 1000)\n",
    "x = torch.rand((16, 3, 224, 224))\n",
    "print(net(x).shape)"
   ]
  },
  {
   "cell_type": "code",
   "execution_count": null,
   "metadata": {},
   "outputs": [],
   "source": []
  }
 ],
 "metadata": {
  "interpreter": {
   "hash": "3af478167759ae4c710e12d24127bdfea349371295ae8f284cff01b249577fd9"
  },
  "kernelspec": {
   "display_name": "Python 3.7.11 64-bit ('snake': conda)",
   "language": "python",
   "name": "python3"
  },
  "language_info": {
   "codemirror_mode": {
    "name": "ipython",
    "version": 3
   },
   "file_extension": ".py",
   "mimetype": "text/x-python",
   "name": "python",
   "nbconvert_exporter": "python",
   "pygments_lexer": "ipython3",
   "version": "3.7.11"
  },
  "orig_nbformat": 4
 },
 "nbformat": 4,
 "nbformat_minor": 2
}
