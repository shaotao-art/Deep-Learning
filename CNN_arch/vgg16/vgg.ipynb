{
 "cells": [
  {
   "cell_type": "code",
   "execution_count": 1,
   "metadata": {},
   "outputs": [],
   "source": [
    "import torch\n",
    "import torch.nn as nn"
   ]
  },
  {
   "cell_type": "markdown",
   "source": [
    "![img](https://miro.medium.com/max/1838/1*lZTWFT36PXsZZK3HjZ3jFQ.png)"
   ],
   "metadata": {
    "collapsed": false
   }
  },
  {
   "cell_type": "code",
   "execution_count": 2,
   "metadata": {},
   "outputs": [],
   "source": [
    "vgg16 = [64, 64, 'M', \n",
    "        128, 128, 'M', \n",
    "        256, 256, 256, 'M', \n",
    "        512, 512, 512, 'M', \n",
    "        512, 512, 512, 'M']"
   ]
  },
  {
   "cell_type": "code",
   "execution_count": 6,
   "metadata": {},
   "outputs": [],
   "source": [
    "# phone:\n",
    "# all the output dim are same\n",
    "# possinle reason \n",
    "# 1. without batchnormal\n",
    "# 2. dropout \n",
    "\n",
    "\n",
    "\n",
    "\n",
    "class Vgg(nn.Module):\n",
    "    def __init__(self, layer_arch, inchannel) -> None:\n",
    "        super(Vgg, self).__init__()\n",
    "        self.arch = layer_arch\n",
    "        self.inchannel = inchannel\n",
    "        self.conv_net = self.creat_conv()\n",
    "        self.fcs = nn.Sequential(\n",
    "            nn.Linear(512*7*7, 4096),\n",
    "            nn.ReLU(),\n",
    "            nn.Linear(4096, 4096),\n",
    "            nn.ReLU(),\n",
    "            nn.Linear(4096, 1000)\n",
    "        )\n",
    "\n",
    "        \n",
    "\n",
    "\n",
    "    def creat_conv(self):\n",
    "        conv_net = []\n",
    "        inchannel = self.inchannel\n",
    "        for each in self.arch:\n",
    "            if type(each) == int:\n",
    "                outchannel = each\n",
    "                conv_net.append(nn.Conv2d(in_channels=inchannel,\n",
    "                                        out_channels=outchannel,\n",
    "                                        kernel_size=(3,3),\n",
    "                                        stride=1,\n",
    "                                        padding=(1,1)))\n",
    "                conv_net.append(nn.ReLU())\n",
    "                inchannel = outchannel\n",
    "            if type(each) == str:\n",
    "                conv_net.append(nn.MaxPool2d(kernel_size=(2,2),\n",
    "                                        stride=2))\n",
    "        return nn.Sequential(*conv_net)\n",
    "\n",
    "    \n",
    "    \n",
    "    def forward(self, x):\n",
    "        x = self.conv_net(x)\n",
    "        x = x.reshape((x.shape[0],-1))\n",
    "        return self.fcs(x)"
   ]
  },
  {
   "cell_type": "code",
   "execution_count": 7,
   "metadata": {},
   "outputs": [],
   "source": [
    "vgg = Vgg(vgg16, 3)"
   ]
  },
  {
   "cell_type": "code",
   "execution_count": 8,
   "metadata": {},
   "outputs": [
    {
     "name": "stdout",
     "output_type": "stream",
     "text": [
      "Vgg(\n",
      "  (conv_net): Sequential(\n",
      "    (0): Conv2d(3, 64, kernel_size=(3, 3), stride=(1, 1), padding=(1, 1))\n",
      "    (1): ReLU()\n",
      "    (2): Conv2d(64, 64, kernel_size=(3, 3), stride=(1, 1), padding=(1, 1))\n",
      "    (3): ReLU()\n",
      "    (4): MaxPool2d(kernel_size=(2, 2), stride=2, padding=0, dilation=1, ceil_mode=False)\n",
      "    (5): Conv2d(64, 128, kernel_size=(3, 3), stride=(1, 1), padding=(1, 1))\n",
      "    (6): ReLU()\n",
      "    (7): Conv2d(128, 128, kernel_size=(3, 3), stride=(1, 1), padding=(1, 1))\n",
      "    (8): ReLU()\n",
      "    (9): MaxPool2d(kernel_size=(2, 2), stride=2, padding=0, dilation=1, ceil_mode=False)\n",
      "    (10): Conv2d(128, 256, kernel_size=(3, 3), stride=(1, 1), padding=(1, 1))\n",
      "    (11): ReLU()\n",
      "    (12): Conv2d(256, 256, kernel_size=(3, 3), stride=(1, 1), padding=(1, 1))\n",
      "    (13): ReLU()\n",
      "    (14): Conv2d(256, 256, kernel_size=(3, 3), stride=(1, 1), padding=(1, 1))\n",
      "    (15): ReLU()\n",
      "    (16): MaxPool2d(kernel_size=(2, 2), stride=2, padding=0, dilation=1, ceil_mode=False)\n",
      "    (17): Conv2d(256, 512, kernel_size=(3, 3), stride=(1, 1), padding=(1, 1))\n",
      "    (18): ReLU()\n",
      "    (19): Conv2d(512, 512, kernel_size=(3, 3), stride=(1, 1), padding=(1, 1))\n",
      "    (20): ReLU()\n",
      "    (21): Conv2d(512, 512, kernel_size=(3, 3), stride=(1, 1), padding=(1, 1))\n",
      "    (22): ReLU()\n",
      "    (23): MaxPool2d(kernel_size=(2, 2), stride=2, padding=0, dilation=1, ceil_mode=False)\n",
      "    (24): Conv2d(512, 512, kernel_size=(3, 3), stride=(1, 1), padding=(1, 1))\n",
      "    (25): ReLU()\n",
      "    (26): Conv2d(512, 512, kernel_size=(3, 3), stride=(1, 1), padding=(1, 1))\n",
      "    (27): ReLU()\n",
      "    (28): Conv2d(512, 512, kernel_size=(3, 3), stride=(1, 1), padding=(1, 1))\n",
      "    (29): ReLU()\n",
      "    (30): MaxPool2d(kernel_size=(2, 2), stride=2, padding=0, dilation=1, ceil_mode=False)\n",
      "  )\n",
      "  (fcs): Sequential(\n",
      "    (0): Linear(in_features=25088, out_features=4096, bias=True)\n",
      "    (1): ReLU()\n",
      "    (2): Linear(in_features=4096, out_features=4096, bias=True)\n",
      "    (3): ReLU()\n",
      "    (4): Linear(in_features=4096, out_features=1000, bias=True)\n",
      "  )\n",
      ")\n"
     ]
    }
   ],
   "source": [
    "print(vgg)"
   ]
  },
  {
   "cell_type": "code",
   "execution_count": null,
   "metadata": {},
   "outputs": [],
   "source": [
    "# input size: (N, 3, 224, 224)\n",
    "# conv_output: (N, 512, 7, 7)\n",
    "# final output: (N, 1000) \n",
    "\n",
    "x = torch.randn(16, 3, 224, 224)\n",
    "y = vgg(x)"
   ]
  },
  {
   "cell_type": "code",
   "execution_count": null,
   "metadata": {},
   "outputs": [],
   "source": [
    "print(y[0], y[1])"
   ]
  }
 ],
 "metadata": {
  "interpreter": {
   "hash": "3af478167759ae4c710e12d24127bdfea349371295ae8f284cff01b249577fd9"
  },
  "kernelspec": {
   "display_name": "Python 3.7.11 64-bit ('snake': conda)",
   "language": "python",
   "name": "python3"
  },
  "language_info": {
   "codemirror_mode": {
    "name": "ipython",
    "version": 3
   },
   "file_extension": ".py",
   "mimetype": "text/x-python",
   "name": "python",
   "nbconvert_exporter": "python",
   "pygments_lexer": "ipython3",
   "version": "3.7.11"
  },
  "orig_nbformat": 4
 },
 "nbformat": 4,
 "nbformat_minor": 2
}