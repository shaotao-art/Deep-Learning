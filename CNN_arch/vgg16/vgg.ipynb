{
 "cells": [
  {
   "cell_type": "code",
   "execution_count": 1,
   "metadata": {},
   "outputs": [],
   "source": [
    "import torch\n",
    "import torch.nn as nn"
   ]
  },
  {
   "cell_type": "code",
   "execution_count": 2,
   "metadata": {},
   "outputs": [],
   "source": [
    "vgg16 = [64, 64, 'M', \n",
    "        128, 128, 'M', \n",
    "        256, 256, 256, 'M', \n",
    "        512, 512, 512, 'M', \n",
    "        512, 512, 512, 'M']"
   ]
  },
  {
   "cell_type": "code",
   "execution_count": 20,
   "metadata": {},
   "outputs": [],
   "source": [
    "class vgg(nn.Module):\n",
    "    def __init__(self, layer_arch, inchannel) -> None:\n",
    "        super(vgg, self).__init__()\n",
    "        self.arch = layer_arch\n",
    "        self.inchannel = inchannel\n",
    "        self.conv_net = self.creat_conv()\n",
    "        self.fcs = nn.Sequential(\n",
    "            nn.Linear(512*7*7, 4096),\n",
    "            nn.ReLU(),\n",
    "            nn.Linear(4096, 4096),\n",
    "            nn.ReLU(),\n",
    "            nn.Linear(4096, 1000)\n",
    "        )\n",
    "\n",
    "        \n",
    "\n",
    "\n",
    "    def creat_conv(self):\n",
    "        conv_net = []\n",
    "        inchannel = self.inchannel\n",
    "        for each in self.arch:\n",
    "            if type(each) == int:\n",
    "                outchannel = each\n",
    "                conv_net.append(nn.Conv2d(in_channels=inchannel,\n",
    "                                        out_channels=outchannel,\n",
    "                                        kernel_size=(3,3),\n",
    "                                        stride=1,\n",
    "                                        padding=(1,1)))\n",
    "                inchannel = outchannel\n",
    "            if type(each) == str:\n",
    "                conv_net.append(nn.MaxPool2d(kernel_size=(2,2),\n",
    "                                        stride=2))\n",
    "        return nn.Sequential(*conv_net)\n",
    "\n",
    "    \n",
    "    \n",
    "    def forward(self, x):\n",
    "        x = self.conv_net(x)\n",
    "        x = x.reshape((x.shape[0],-1))\n",
    "        return self.fcs(x)"
   ]
  },
  {
   "cell_type": "code",
   "execution_count": 21,
   "metadata": {},
   "outputs": [
    {
     "name": "stdout",
     "output_type": "stream",
     "text": [
      "torch.Size([16, 1000])\n"
     ]
    }
   ],
   "source": [
    "# input size: (N, 3, 224, 224)\n",
    "# conv_output: (N, 512, 7, 7)\n",
    "# final output: (N, 1000) \n",
    "\n",
    "x = torch.randn(16, 3, 224, 224)\n",
    "vggnet = vgg(vgg16, 3)\n",
    "print(vggnet(x).shape)"
   ]
  },
  {
   "cell_type": "code",
   "execution_count": 22,
   "metadata": {},
   "outputs": [
    {
     "name": "stdout",
     "output_type": "stream",
     "text": [
      "zsh:1: command not found: kaggle\n"
     ]
    }
   ],
   "source": [
    "!kaggle competitions download -c dogs-vs-cats"
   ]
  },
  {
   "cell_type": "code",
   "execution_count": null,
   "metadata": {},
   "outputs": [],
   "source": []
  }
 ],
 "metadata": {
  "interpreter": {
   "hash": "3af478167759ae4c710e12d24127bdfea349371295ae8f284cff01b249577fd9"
  },
  "kernelspec": {
   "display_name": "Python 3.7.11 64-bit ('snake': conda)",
   "language": "python",
   "name": "python3"
  },
  "language_info": {
   "codemirror_mode": {
    "name": "ipython",
    "version": 3
   },
   "file_extension": ".py",
   "mimetype": "text/x-python",
   "name": "python",
   "nbconvert_exporter": "python",
   "pygments_lexer": "ipython3",
   "version": "3.7.11"
  },
  "orig_nbformat": 4
 },
 "nbformat": 4,
 "nbformat_minor": 2
}
