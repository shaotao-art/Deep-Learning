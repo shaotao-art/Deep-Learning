{
  "nbformat": 4,
  "nbformat_minor": 0,
  "metadata": {
    "interpreter": {
      "hash": "5a4b10ea6e7017b946d64dd4626e0554263b03ba97c0491702f11b013cf63de0"
    },
    "kernelspec": {
      "display_name": "Python 3.8.8 64-bit ('base': conda)",
      "language": "python",
      "name": "python3"
    },
    "language_info": {
      "codemirror_mode": {
        "name": "ipython",
        "version": 3
      },
      "file_extension": ".py",
      "mimetype": "text/x-python",
      "name": "python",
      "nbconvert_exporter": "python",
      "pygments_lexer": "ipython3",
      "version": "3.8.8"
    },
    "orig_nbformat": 4,
    "colab": {
      "name": "cov19.ipynb",
      "provenance": [],
      "collapsed_sections": []
    }
  },
  "cells": [
    {
      "cell_type": "code",
      "metadata": {
        "id": "eUiXtLPH2rAE"
      },
      "source": [
        "import pandas as pd\n",
        "import numpy as np\n",
        "import torch\n",
        "from torch import nn\n",
        "from matplotlib import pyplot as plt\n",
        "%matplotlib inline\n",
        "\n",
        "from torch.utils.data import Dataset\n",
        "from torch.utils.data import DataLoader"
      ],
      "execution_count": 215,
      "outputs": []
    },
    {
      "cell_type": "code",
      "metadata": {
        "id": "1rYzLdwe2rAG"
      },
      "source": [
        "## 读取表格并转为numpy\n",
        "train=pd.read_csv('./train.csv')\n",
        "train.iloc[:,41:-1]=(train.iloc[:,41:-1]-np.mean(train.iloc[:,41:-1],axis=0))/np.std(train.iloc[:,41:-1],axis=0)\n",
        "train_data=train.to_numpy()\n",
        "labels=train_data[:,-1]\n",
        "## 不要忘记删除id列\n",
        "features=train_data[:,1:-1]"
      ],
      "execution_count": 216,
      "outputs": []
    },
    {
      "cell_type": "code",
      "metadata": {
        "id": "Wvd1lxwM2rAH"
      },
      "source": [
        "## 转成tensor\n",
        "features=torch.Tensor(features)\n",
        "labels=torch.Tensor(labels)\n",
        "new_shape = (len(labels), 1)\n",
        "labels = labels.view(new_shape)"
      ],
      "execution_count": 217,
      "outputs": []
    },
    {
      "cell_type": "code",
      "metadata": {
        "id": "JTHggbQY2rAI"
      },
      "source": [
        "## 分割train valid set\n",
        "idx=np.arange(0,len(labels),10)\n",
        "valid_set=features[idx]\n",
        "valid_label=labels[idx]\n",
        "idx=[i for i in range(len(labels)) if i%10!=0]\n",
        "train_set=features[idx]\n",
        "train_label=labels[idx]"
      ],
      "execution_count": 218,
      "outputs": []
    },
    {
      "cell_type": "code",
      "metadata": {
        "colab": {
          "base_uri": "https://localhost:8080/"
        },
        "id": "3YRJDzhm2rAI",
        "outputId": "211ed91a-7cd9-4439-a022-451555214f60"
      },
      "source": [
        "train_set.shape,valid_set.shape"
      ],
      "execution_count": 219,
      "outputs": [
        {
          "output_type": "execute_result",
          "data": {
            "text/plain": [
              "(torch.Size([2430, 93]), torch.Size([270, 93]))"
            ]
          },
          "metadata": {},
          "execution_count": 219
        }
      ]
    },
    {
      "cell_type": "code",
      "metadata": {
        "colab": {
          "base_uri": "https://localhost:8080/"
        },
        "id": "gk3nW6ll3LFx",
        "outputId": "38cf58f0-54fa-45ed-b8e5-c41f57f843dd"
      },
      "source": [
        "train_label.shape,valid_label.shape"
      ],
      "execution_count": null,
      "outputs": [
        {
          "output_type": "execute_result",
          "data": {
            "text/plain": [
              "(torch.Size([2430, 1]), torch.Size([270, 1]))"
            ]
          },
          "metadata": {},
          "execution_count": 153
        }
      ]
    },
    {
      "cell_type": "code",
      "metadata": {
        "id": "K5HuNzz02rAJ"
      },
      "source": [
        "class CustomImageDataset(Dataset):\n",
        "    def __init__(self, features, labels, transform=None, target_transform=None):\n",
        "        self.feature=features\n",
        "        self.label=labels\n",
        "        self.transform = transform\n",
        "        self.target_transform = target_transform\n",
        "\n",
        "    def __len__(self):\n",
        "        return len(self.label)\n",
        "\n",
        "    def __getitem__(self, idx):\n",
        "      ## 注意此处为了在train和test时都能使用的写法\n",
        "        if self.label is not None:\n",
        "          return self.feature[idx],self.label[idx]\n",
        "        else:\n",
        "          return self.feature[idx]"
      ],
      "execution_count": 220,
      "outputs": []
    },
    {
      "cell_type": "code",
      "metadata": {
        "id": "vEYIUD4n4HI5",
        "colab": {
          "base_uri": "https://localhost:8080/"
        },
        "outputId": "5a04cec6-3276-49a4-a1ee-94dcaaa27d73"
      },
      "source": [
        "device = \"cuda\" if torch.cuda.is_available() else \"cpu\"\n",
        "print(device)"
      ],
      "execution_count": 222,
      "outputs": [
        {
          "output_type": "stream",
          "name": "stdout",
          "text": [
            "cpu\n"
          ]
        }
      ]
    },
    {
      "cell_type": "code",
      "metadata": {
        "id": "2dCIdWzT2rAM"
      },
      "source": [
        "def train(train_dataloader,valid_dataloador, model, loss_fn, optimizer,device):\n",
        "    train_loss_lst=[]\n",
        "    valid_loss_lst=[]\n",
        "\n",
        "    epoch=0\n",
        "    n_epoch=3000\n",
        "    min_loss=1000\n",
        "    early_stop_cnt=0\n",
        "    early_stop_cnt_max=500\n",
        "\n",
        "    size = len(train_dataloader.dataset)\n",
        "    ## 将model调为训练模式\n",
        "    model.train()\n",
        "\n",
        "    while epoch<=n_epoch:\n",
        "\n",
        "        for batch, (X, y) in enumerate(train_dataloader):\n",
        "            X, y = X.to(device), y.to(device)\n",
        "\n",
        "            # Compute prediction error\n",
        "            pred = model(X)\n",
        "            loss = loss_fn(pred, y)\n",
        "\n",
        "            train_loss_lst.append(loss.item())\n",
        "\n",
        "            # Backpropagation\n",
        "            optimizer.zero_grad()\n",
        "            loss.backward()\n",
        "            optimizer.step()\n",
        "\n",
        "            # if batch % 10 == 0:\n",
        "            #     loss, current = loss.item(), batch * len(X)\n",
        "            #     print(f\"loss: {loss:>7f}  [{current:>5d}/{size:>5d}]\")\n",
        "        # print(f\"epoch: {epoch},\")\n",
        "        # print(\"-------------------------------\")\n",
        "        epoch+=1    \n",
        "        \n",
        "        ## 进行模型评估valid\n",
        "        valid_loss=valid(model,valid_dataloador,device,loss_fn)\n",
        "        valid_loss_lst.append(valid_loss)\n",
        "        if valid_loss<min_loss:\n",
        "            min_loss=valid_loss\n",
        "            torch.save(model.state_dict(),'./model.pth')  \n",
        "            print(f'epoch: {epoch}, loss is decreasing , loss is {valid_loss}')\n",
        "\n",
        "            early_stop_cnt=0\n",
        "        else:\n",
        "            early_stop_cnt+=1\n",
        "            # print(f'loss keep same , loss is {valid_loss}')\n",
        "            if early_stop_cnt>=early_stop_cnt_max:\n",
        "                break\n",
        "\n",
        "    return (train_loss_lst,valid_loss_lst)"
      ],
      "execution_count": 223,
      "outputs": []
    },
    {
      "cell_type": "code",
      "metadata": {
        "id": "WKxvGBbt2rAN"
      },
      "source": [
        "def valid(model,valid_dataloador,device,loss_fn):\n",
        "    ## input: model\n",
        "    ## return: valid loss\n",
        "    model.eval()\n",
        "    total_loss=0\n",
        "    with torch.no_grad():\n",
        "        for X, y in valid_dataloador:\n",
        "            X, y = X.to(device), y.to(device)\n",
        "\n",
        "            # Compute prediction error\n",
        "            pred = model(X)\n",
        "            loss= loss_fn(pred, y)\n",
        "            # print(loss.detach().cpu().item())\n",
        "            total_loss+=loss.detach().cpu().item()*len(y)\n",
        "\n",
        "    return total_loss/len(valid_dataloador.dataset)\n"
      ],
      "execution_count": 224,
      "outputs": []
    },
    {
      "cell_type": "code",
      "metadata": {
        "id": "H_tOdcOb2rAK"
      },
      "source": [
        "training_data=CustomImageDataset(train_set,train_label)\n",
        "train_dataloader = DataLoader(training_data, batch_size=64, shuffle=True)\n",
        "valid_data=CustomImageDataset(valid_set,valid_label)\n",
        "valid_dataloader = DataLoader(valid_data, batch_size=64, shuffle=True)"
      ],
      "execution_count": 225,
      "outputs": []
    },
    {
      "cell_type": "code",
      "metadata": {
        "id": "gw8_0xn22rAJ"
      },
      "source": [
        "##  定义model\n",
        "# Define model\n",
        "class NeuralNetwork(nn.Module):\n",
        "    def __init__(self):\n",
        "        super(NeuralNetwork, self).__init__()\n",
        "        self.linear_relu_stack = nn.Sequential(\n",
        "            nn.Linear(93, 1),\n",
        "\n",
        "        )\n",
        "\n",
        "    def forward(self, x):\n",
        "        logits = self.linear_relu_stack(x)\n",
        "        return logits"
      ],
      "execution_count": 226,
      "outputs": []
    },
    {
      "cell_type": "code",
      "metadata": {
        "colab": {
          "base_uri": "https://localhost:8080/"
        },
        "id": "-heCxgnO2rAL",
        "outputId": "34de1943-e3a5-4d64-f53b-bd1ee4317090"
      },
      "source": [
        "loss_fn = nn.MSELoss()\n",
        "model = NeuralNetwork().to(device)\n",
        "print(model)\n",
        "optimizer = torch.optim.SGD(model.parameters(), lr=1e-3,momentum=0.9)"
      ],
      "execution_count": 227,
      "outputs": [
        {
          "output_type": "stream",
          "name": "stdout",
          "text": [
            "NeuralNetwork(\n",
            "  (linear_relu_stack): Sequential(\n",
            "    (0): Linear(in_features=93, out_features=1, bias=True)\n",
            "  )\n",
            ")\n"
          ]
        }
      ]
    },
    {
      "cell_type": "code",
      "metadata": {
        "colab": {
          "base_uri": "https://localhost:8080/"
        },
        "id": "T614c0LD2rAO",
        "outputId": "de920b06-e8d3-4e8d-9a4f-7017aa6ba88f"
      },
      "source": [
        "(train_loss_lst,valid_loss_lst)=train(train_dataloader,valid_dataloader, model, loss_fn, optimizer,device)"
      ],
      "execution_count": 228,
      "outputs": [
        {
          "output_type": "stream",
          "name": "stdout",
          "text": [
            "epoch: 1, loss is decreasing , loss is 75.67728576660156\n",
            "epoch: 2, loss is decreasing , loss is 12.688669840494791\n",
            "epoch: 3, loss is decreasing , loss is 3.8169736756218806\n",
            "epoch: 4, loss is decreasing , loss is 2.185748377552739\n",
            "epoch: 5, loss is decreasing , loss is 1.713655412638629\n",
            "epoch: 6, loss is decreasing , loss is 1.4768345810748913\n",
            "epoch: 7, loss is decreasing , loss is 1.3271608273188273\n",
            "epoch: 8, loss is decreasing , loss is 1.2631407194667392\n",
            "epoch: 9, loss is decreasing , loss is 1.1755021360185411\n",
            "epoch: 10, loss is decreasing , loss is 1.1318550401263767\n",
            "epoch: 11, loss is decreasing , loss is 1.1104914170724374\n",
            "epoch: 12, loss is decreasing , loss is 1.0896550370587244\n",
            "epoch: 13, loss is decreasing , loss is 1.0641890962918599\n",
            "epoch: 14, loss is decreasing , loss is 1.0486015734849152\n",
            "epoch: 15, loss is decreasing , loss is 1.0456212829660487\n",
            "epoch: 16, loss is decreasing , loss is 1.036535095727002\n",
            "epoch: 18, loss is decreasing , loss is 1.0272031797303094\n",
            "epoch: 19, loss is decreasing , loss is 1.016265866050014\n",
            "epoch: 23, loss is decreasing , loss is 0.9978854355988679\n",
            "epoch: 24, loss is decreasing , loss is 0.9933061392218978\n",
            "epoch: 25, loss is decreasing , loss is 0.9905264563030667\n",
            "epoch: 27, loss is decreasing , loss is 0.9863900087497852\n",
            "epoch: 28, loss is decreasing , loss is 0.9811702834235297\n",
            "epoch: 32, loss is decreasing , loss is 0.9718658279489588\n",
            "epoch: 35, loss is decreasing , loss is 0.963609347961567\n",
            "epoch: 38, loss is decreasing , loss is 0.9590431213378906\n",
            "epoch: 39, loss is decreasing , loss is 0.9560507694880168\n",
            "epoch: 40, loss is decreasing , loss is 0.9508602398413198\n",
            "epoch: 43, loss is decreasing , loss is 0.9476190990871853\n",
            "epoch: 44, loss is decreasing , loss is 0.9386046780480279\n",
            "epoch: 47, loss is decreasing , loss is 0.9360020354942039\n",
            "epoch: 48, loss is decreasing , loss is 0.9316750875225773\n",
            "epoch: 52, loss is decreasing , loss is 0.9218232538965013\n",
            "epoch: 57, loss is decreasing , loss is 0.9139268000920614\n",
            "epoch: 65, loss is decreasing , loss is 0.9138733055856493\n",
            "epoch: 68, loss is decreasing , loss is 0.9101554340786404\n",
            "epoch: 69, loss is decreasing , loss is 0.9005606457039163\n",
            "epoch: 70, loss is decreasing , loss is 0.8971666442023383\n",
            "epoch: 74, loss is decreasing , loss is 0.8918854510342633\n",
            "epoch: 77, loss is decreasing , loss is 0.8908266531096565\n",
            "epoch: 81, loss is decreasing , loss is 0.8903119480168378\n",
            "epoch: 82, loss is decreasing , loss is 0.8813539604345958\n",
            "epoch: 83, loss is decreasing , loss is 0.8800747752189636\n",
            "epoch: 89, loss is decreasing , loss is 0.8755897764806394\n",
            "epoch: 91, loss is decreasing , loss is 0.8748624249740883\n",
            "epoch: 95, loss is decreasing , loss is 0.8705467811337224\n",
            "epoch: 98, loss is decreasing , loss is 0.8665301967550207\n",
            "epoch: 99, loss is decreasing , loss is 0.8624886322904516\n",
            "epoch: 104, loss is decreasing , loss is 0.855627159719114\n",
            "epoch: 109, loss is decreasing , loss is 0.853732560299061\n",
            "epoch: 113, loss is decreasing , loss is 0.8481563612266824\n",
            "epoch: 114, loss is decreasing , loss is 0.8457456098662482\n",
            "epoch: 124, loss is decreasing , loss is 0.8383979973969636\n",
            "epoch: 132, loss is decreasing , loss is 0.835646942809776\n",
            "epoch: 135, loss is decreasing , loss is 0.8340496504748309\n",
            "epoch: 140, loss is decreasing , loss is 0.8321582992871602\n",
            "epoch: 141, loss is decreasing , loss is 0.8289826446109347\n",
            "epoch: 147, loss is decreasing , loss is 0.8281262512560243\n",
            "epoch: 153, loss is decreasing , loss is 0.8216048549722742\n",
            "epoch: 160, loss is decreasing , loss is 0.8190999066388166\n",
            "epoch: 164, loss is decreasing , loss is 0.8175121954193821\n",
            "epoch: 169, loss is decreasing , loss is 0.8173808133160626\n",
            "epoch: 174, loss is decreasing , loss is 0.8168090581893921\n",
            "epoch: 176, loss is decreasing , loss is 0.8143894323596248\n",
            "epoch: 177, loss is decreasing , loss is 0.8120030641555787\n",
            "epoch: 190, loss is decreasing , loss is 0.8094307753774855\n",
            "epoch: 192, loss is decreasing , loss is 0.8087045228039776\n",
            "epoch: 198, loss is decreasing , loss is 0.8043558959607725\n",
            "epoch: 212, loss is decreasing , loss is 0.804155574021516\n",
            "epoch: 213, loss is decreasing , loss is 0.8029213715482642\n",
            "epoch: 214, loss is decreasing , loss is 0.8016566874804321\n",
            "epoch: 218, loss is decreasing , loss is 0.7988414234585233\n",
            "epoch: 230, loss is decreasing , loss is 0.7975772237336194\n",
            "epoch: 231, loss is decreasing , loss is 0.7957016874242712\n",
            "epoch: 245, loss is decreasing , loss is 0.7893674969673157\n",
            "epoch: 269, loss is decreasing , loss is 0.7862281675691958\n",
            "epoch: 278, loss is decreasing , loss is 0.7827439568660878\n",
            "epoch: 315, loss is decreasing , loss is 0.7816271499351218\n",
            "epoch: 317, loss is decreasing , loss is 0.7807817445860968\n",
            "epoch: 318, loss is decreasing , loss is 0.7799452472616125\n",
            "epoch: 338, loss is decreasing , loss is 0.7792922995708607\n",
            "epoch: 351, loss is decreasing , loss is 0.7780863607371294\n",
            "epoch: 352, loss is decreasing , loss is 0.7760983736426742\n",
            "epoch: 364, loss is decreasing , loss is 0.7730272191542166\n",
            "epoch: 400, loss is decreasing , loss is 0.7707141196286237\n",
            "epoch: 418, loss is decreasing , loss is 0.7701593165044431\n",
            "epoch: 458, loss is decreasing , loss is 0.7690164040636134\n",
            "epoch: 477, loss is decreasing , loss is 0.7675536910692851\n",
            "epoch: 521, loss is decreasing , loss is 0.7668388682383078\n",
            "epoch: 550, loss is decreasing , loss is 0.7658230008902374\n",
            "epoch: 691, loss is decreasing , loss is 0.7638498275368302\n",
            "epoch: 800, loss is decreasing , loss is 0.7627320779694451\n",
            "epoch: 876, loss is decreasing , loss is 0.762532607935093\n",
            "epoch: 936, loss is decreasing , loss is 0.7615516335875899\n"
          ]
        }
      ]
    },
    {
      "cell_type": "code",
      "metadata": {
        "colab": {
          "base_uri": "https://localhost:8080/"
        },
        "id": "d3UJfbPzIFlP",
        "outputId": "78b83fa7-d9bb-4ba2-f159-d228d478759a"
      },
      "source": [
        "len(train_loss_lst),len(valid_loss_lst)"
      ],
      "execution_count": 229,
      "outputs": [
        {
          "output_type": "execute_result",
          "data": {
            "text/plain": [
              "(54568, 1436)"
            ]
          },
          "metadata": {},
          "execution_count": 229
        }
      ]
    },
    {
      "cell_type": "markdown",
      "metadata": {
        "id": "tOxNOfskFGXs"
      },
      "source": [
        "## 1\n",
        "两层\n",
        "\n",
        "不做normaliztion 最终收敛在58.94\n",
        "\n",
        "做normaliztion 最终收敛在0.7291709469424353\n",
        "\n",
        "## 2\n",
        "一层\n",
        "\n",
        "不做normaliztion 单层的直接线性根本训练不起来\n",
        "\n",
        "做normaliztion 单层也可以训练 最终收敛在0.7598297108102727"
      ]
    },
    {
      "cell_type": "code",
      "metadata": {
        "colab": {
          "base_uri": "https://localhost:8080/",
          "height": 265
        },
        "id": "DBsGA8GNIPJ5",
        "outputId": "665cbc21-8af5-46de-c6ac-161e3bf219ae"
      },
      "source": [
        "plt.plot(np.arange(len(valid_loss_lst)),valid_loss_lst)\n",
        "plt.show()"
      ],
      "execution_count": 230,
      "outputs": [
        {
          "output_type": "display_data",
          "data": {
            "image/png": "[encoded data removed]",
            "text/plain": [
              "<Figure size 432x288 with 1 Axes>"
            ]
          },
          "metadata": {
            "needs_background": "light"
          }
        }
      ]
    },
    {
      "cell_type": "code",
      "metadata": {
        "colab": {
          "base_uri": "https://localhost:8080/",
          "height": 265
        },
        "id": "obD2rbmGIeiA",
        "outputId": "3de181b3-205d-4088-c587-3c74cc22b589"
      },
      "source": [
        "plt.plot(np.arange(len(train_loss_lst)),train_loss_lst)\n",
        "plt.show()"
      ],
      "execution_count": 231,
      "outputs": [
        {
          "output_type": "display_data",
          "data": {
            "image/png": "[encoded data removed]",
            "text/plain": [
              "<Figure size 432x288 with 1 Axes>"
            ]
          },
          "metadata": {
            "needs_background": "light"
          }
        }
      ]
    },
    {
      "cell_type": "code",
      "metadata": {
        "colab": {
          "base_uri": "https://localhost:8080/"
        },
        "id": "aUGbkdQiImng",
        "outputId": "b2d72678-30cf-463e-9de2-1dfcec1e5f73"
      },
      "source": [
        "test=pd.read_csv('./test.csv')\n",
        "test.iloc[:,41:]=(test.iloc[:,41:]-np.mean(test.iloc[:,41:],axis=0))/np.std(test.iloc[:,41:],axis=0)\n",
        "test_data=test.to_numpy()\n",
        "test_features=test_data[:,1:]\n",
        "\n",
        "## 在转成tensor前转成np.float32  否则后面会出错\n",
        "test_features=test_features.astype(np.float32)\n",
        "\n",
        "test_features=torch.tensor(test_features)\n",
        "print(test_features.shape)\n",
        "print(test_features.dtype)"
      ],
      "execution_count": 266,
      "outputs": [
        {
          "output_type": "stream",
          "name": "stdout",
          "text": [
            "torch.Size([893, 93])\n",
            "torch.float32\n"
          ]
        }
      ]
    },
    {
      "cell_type": "code",
      "metadata": {
        "id": "tWXIykRAPJsE"
      },
      "source": [
        "test_dataloador=CustomImageDataset(test_features,None)"
      ],
      "execution_count": 267,
      "outputs": []
    },
    {
      "cell_type": "code",
      "metadata": {
        "id": "e7XqbApiON_C"
      },
      "source": [
        "def test(test_dataloador,model):\n",
        "  ## return pred on test_set\n",
        "  model.eval()\n",
        "  pred_lst=[]\n",
        "  with torch.no_grad():\n",
        "    for x in test_dataloador:\n",
        "      pred=model(x)\n",
        "      pred_lst.append(pred.detach().item())\n",
        "  return pred_lst  \n",
        "\n"
      ],
      "execution_count": 268,
      "outputs": []
    },
    {
      "cell_type": "code",
      "metadata": {
        "id": "XyRNMvy5PiSD"
      },
      "source": [
        "final_pred=test(test_dataloador,model)"
      ],
      "execution_count": 269,
      "outputs": []
    },
    {
      "cell_type": "code",
      "metadata": {
        "id": "uWCnQDWKUPmm"
      },
      "source": [
        "final_pred"
      ],
      "execution_count": null,
      "outputs": []
    },
    {
      "cell_type": "code",
      "metadata": {
        "id": "vk_pt50Vb0ey"
      },
      "source": [
        "import csv"
      ],
      "execution_count": 273,
      "outputs": []
    },
    {
      "cell_type": "code",
      "metadata": {
        "id": "dPhHoIU2Ux1c"
      },
      "source": [
        "def save_pred(preds, file):\n",
        "    ''' Save predictions to specified file '''\n",
        "    print('Saving results to {}'.format(file))\n",
        "    with open(file, 'w') as fp:\n",
        "        writer = csv.writer(fp)\n",
        "        writer.writerow(['id', 'tested_positive'])\n",
        "        for i, p in enumerate(preds):\n",
        "            writer.writerow([i, p])"
      ],
      "execution_count": 274,
      "outputs": []
    },
    {
      "cell_type": "code",
      "metadata": {
        "colab": {
          "base_uri": "https://localhost:8080/"
        },
        "id": "q5nJTtXhbl2s",
        "outputId": "e42ffd22-5ba5-4208-d241-3704b329e1a4"
      },
      "source": [
        "save_pred(final_pred,'starfish.csv')"
      ],
      "execution_count": 275,
      "outputs": [
        {
          "output_type": "stream",
          "name": "stdout",
          "text": [
            "Saving results to starfish.csv\n"
          ]
        }
      ]
    },
    {
      "cell_type": "code",
      "metadata": {
        "id": "OxuNUKMhbvRl"
      },
      "source": [
        ""
      ],
      "execution_count": null,
      "outputs": []
    }
  ]
}