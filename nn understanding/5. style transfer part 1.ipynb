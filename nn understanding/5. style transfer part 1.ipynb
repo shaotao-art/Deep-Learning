{
 "cells": [
  {
   "cell_type": "code",
   "execution_count": 1,
   "metadata": {
    "collapsed": false,
    "pycharm": {
     "name": "#%%\n"
    }
   },
   "outputs": [],
   "source": [
    "import torch\n",
    "import torchvision\n",
    "import matplotlib.pyplot as plt\n",
    "from PIL import Image"
   ]
  },
  {
   "cell_type": "code",
   "execution_count": 15,
   "metadata": {
    "collapsed": false,
    "pycharm": {
     "name": "#%%\n"
    }
   },
   "outputs": [],
   "source": [
    "test_img = Image.open(\"./goldfish.jpg\")\n",
    "test_img = test_img.resize((224, 224))\n",
    "transform = torchvision.transforms.ToTensor()\n",
    "test_img = transform(test_img).unsqueeze(0)"
   ]
  },
  {
   "cell_type": "code",
   "execution_count": 2,
   "metadata": {
    "collapsed": false,
    "pycharm": {
     "name": "#%%\n"
    }
   },
   "outputs": [],
   "source": [
    "model = torchvision.models.vgg16(pretrained=True)\n",
    "for param in model.parameters():\n",
    "    param.requires_grad = False\n",
    "\n",
    "layers = model.features[:4]"
   ]
  },
  {
   "cell_type": "code",
   "execution_count": null,
   "metadata": {
    "collapsed": false,
    "pycharm": {
     "name": "#%%\n"
    }
   },
   "outputs": [],
   "source": [
    "def reg(noise):\n",
    "    noise = noise.squeeze(0).permute(1,2,0)\n",
    "    reg_loss = 0\n",
    "    for i in range(224 - 2):\n",
    "        for j in range(224 - 2):\n",
    "            reg_loss += (noise[i, j+1] - noise[i, j])**2 + (noise[i+1, j] - noise[i, j])**2\n",
    "    return reg_loss\n"
   ]
  },
  {
   "cell_type": "code",
   "execution_count": null,
   "metadata": {
    "collapsed": false,
    "pycharm": {
     "name": "#%%\n"
    }
   },
   "outputs": [],
   "source": [
    "# put a image into model and get output from\n",
    "given_feature = layers(x)\n",
    "\n",
    "# init a random noise, gradient descent on it to reconstruct the image.\n",
    "noise = torch.randn(1, 3, 224, 224)\n",
    "optimizer = torch.optim.Adam(noise)\n",
    "criterion = nn.MSELoss()\n",
    "\n",
    "for i in range(100):\n",
    "    noise_feature = layers(noise)\n",
    "\n",
    "    # loss has two parts: 1. the L2 distance between feature 2. regularizer term\n",
    "    loss = criterion(given_feature, noise_feature) + reg(noise)\n",
    "\n",
    "    optimizer.zero_grad()\n",
    "    loss.backward()\n",
    "    optimizer.step()\n",
    "\n",
    "    if i % 10 == 0:\n",
    "        plt.imshow(noise.squeeze(0).permute(1,2,0).numpy())\n",
    "        plt.title(f\"epoch({i})\")\n",
    "        plt.axis(\"off\")\n",
    "        plt.imshow()\n"
   ]
  }
 ],
 "metadata": {
  "kernelspec": {
   "display_name": "Python 3",
   "language": "python",
   "name": "python3"
  },
  "language_info": {
   "codemirror_mode": {
    "name": "ipython",
    "version": 2
   },
   "file_extension": ".py",
   "mimetype": "text/x-python",
   "name": "python",
   "nbconvert_exporter": "python",
   "pygments_lexer": "ipython2",
   "version": "2.7.6"
  }
 },
 "nbformat": 4,
 "nbformat_minor": 0
}
