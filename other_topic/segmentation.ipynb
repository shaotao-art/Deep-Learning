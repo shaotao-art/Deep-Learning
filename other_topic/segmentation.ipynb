{
 "cells": [
  {
   "cell_type": "code",
   "execution_count": 1,
   "metadata": {
    "collapsed": true
   },
   "outputs": [],
   "source": [
    "import  torch\n",
    "import  torch.nn as  nn\n",
    "import  torchvision.transforms.functional as func"
   ]
  },
  {
   "cell_type": "code",
   "execution_count": 70,
   "outputs": [],
   "source": [
    "class UNet(nn.Module):\n",
    "    def __init__(self, img_channel, out_dim):\n",
    "        super(UNet, self).__init__()\n",
    "        self.img_channel = img_channel\n",
    "        self.out_dim = out_dim\n",
    "        self.config = [64, 128, 256, 512]\n",
    "\n",
    "\n",
    "        self.maxpool_2x2 = nn.MaxPool2d(kernel_size=(2,2), stride=2)\n",
    "        self.down_block = self._down_block()\n",
    "        self.final_conv1x1 = nn.Conv2d(self.config[0], self.out_dim, (3,3), (1,1), 1)\n",
    "\n",
    "        self.bottle_neck = self._conv_block(512, 1024)\n",
    "        # print(self.down_block)\n",
    "        self.up_block = self._up_block()\n",
    "        # print(self.up_block)\n",
    "\n",
    "\n",
    "    def _up_block(self):\n",
    "        layers = []\n",
    "        # backward iter the self.config\n",
    "        for i in range(len(self.config) - 1, -1, -1):\n",
    "            in_channel = self.config[i]\n",
    "            layers.append(nn.ConvTranspose2d(in_channel * 2, in_channel, (4,4), (2,2), (1,1)))\n",
    "            layers.append(self._conv_block(in_channel * 2, in_channel))\n",
    "        return nn.Sequential(*layers)\n",
    "\n",
    "    def _down_block(self):\n",
    "        in_channel = self.img_channel\n",
    "        layers = []\n",
    "        for i in range(len(self.config)):\n",
    "            layers.append(self._conv_block(in_channel, self.config[i]))\n",
    "            layers.append(self.maxpool_2x2)\n",
    "            in_channel = self.config[i]\n",
    "        return nn.Sequential(*layers)\n",
    "\n",
    "\n",
    "    def _conv_block(self, inchannel, outchannel, k_s=(3,3), s=1, p=0):\n",
    "        return  nn.Sequential(\n",
    "            nn.Conv2d(inchannel, outchannel, k_s, s, p),\n",
    "            nn.ReLU(),\n",
    "            nn.Conv2d(outchannel, outchannel, k_s, s, p),\n",
    "            nn.ReLU()\n",
    "        )\n",
    "\n",
    "    def forward(self, x):\n",
    "        down_data = []\n",
    "        for layer in self.down_block:\n",
    "            x = layer(x)\n",
    "            print(x.shape)\n",
    "            if isinstance(layer, nn.Sequential):\n",
    "                down_data.append(x)\n",
    "\n",
    "        x = self.bottle_neck(x)\n",
    "\n",
    "        back_count = len(down_data) - 1\n",
    "        for layer in self.up_block:\n",
    "            if isinstance(layer, nn.Sequential):\n",
    "                # if is Conv_block\n",
    "                # resize accord down_data to x's size\n",
    "                # then concat resized tensor and x\n",
    "                temp = func.resize(down_data[back_count], x.shape[2:])\n",
    "                x = torch.cat((x, temp), dim=1)\n",
    "                x = layer(x)\n",
    "                back_count -= 1\n",
    "            else:\n",
    "                # if is convtranspose, go through it\n",
    "                x = layer(x)\n",
    "        x = self.final_conv1x1(x)\n",
    "        return x"
   ],
   "metadata": {
    "collapsed": false,
    "pycharm": {
     "name": "#%%\n"
    }
   }
  },
  {
   "cell_type": "code",
   "execution_count": 71,
   "outputs": [
    {
     "name": "stdout",
     "output_type": "stream",
     "text": [
      "torch.Size([8, 64, 568, 568])\n",
      "torch.Size([8, 64, 284, 284])\n",
      "torch.Size([8, 128, 280, 280])\n",
      "torch.Size([8, 128, 140, 140])\n",
      "torch.Size([8, 256, 136, 136])\n",
      "torch.Size([8, 256, 68, 68])\n",
      "torch.Size([8, 512, 64, 64])\n",
      "torch.Size([8, 512, 32, 32])\n"
     ]
    },
    {
     "data": {
      "text/plain": "torch.Size([8, 2, 388, 388])"
     },
     "execution_count": 71,
     "metadata": {},
     "output_type": "execute_result"
    }
   ],
   "source": [
    "model = UNet(3, 2)\n",
    "x = torch.randn(8, 3, 572, 572)\n",
    "model(x).shape"
   ],
   "metadata": {
    "collapsed": false,
    "pycharm": {
     "name": "#%%\n"
    }
   }
  },
  {
   "cell_type": "code",
   "execution_count": 2,
   "outputs": [],
   "source": [
    "DEVICE = \"cuda\" if torch.cuda.is_available() else \"cpu\""
   ],
   "metadata": {
    "collapsed": false,
    "pycharm": {
     "name": "#%%\n"
    }
   }
  },
  {
   "cell_type": "code",
   "execution_count": 3,
   "outputs": [
    {
     "data": {
      "text/plain": "'cpu'"
     },
     "execution_count": 3,
     "metadata": {},
     "output_type": "execute_result"
    }
   ],
   "source": [
    "DEVICE"
   ],
   "metadata": {
    "collapsed": false,
    "pycharm": {
     "name": "#%%\n"
    }
   }
  },
  {
   "cell_type": "code",
   "execution_count": null,
   "outputs": [],
   "source": [],
   "metadata": {
    "collapsed": false,
    "pycharm": {
     "name": "#%%\n"
    }
   }
  }
 ],
 "metadata": {
  "kernelspec": {
   "display_name": "Python 3",
   "language": "python",
   "name": "python3"
  },
  "language_info": {
   "codemirror_mode": {
    "name": "ipython",
    "version": 2
   },
   "file_extension": ".py",
   "mimetype": "text/x-python",
   "name": "python",
   "nbconvert_exporter": "python",
   "pygments_lexer": "ipython2",
   "version": "2.7.6"
  }
 },
 "nbformat": 4,
 "nbformat_minor": 0
}