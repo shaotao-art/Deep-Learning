{
 "cells": [
  {
   "cell_type": "markdown",
   "source": [
    "## import module..."
   ],
   "metadata": {
    "collapsed": false
   }
  },
  {
   "cell_type": "code",
   "execution_count": null,
   "metadata": {
    "collapsed": true,
    "pycharm": {
     "name": "#%%\n"
    }
   },
   "outputs": [],
   "source": [
    "import torch\n",
    "import torchvision\n",
    "import torch.nn as nn  # used to build network\n",
    "\n",
    "import torch.optim as optim # optimizer\n",
    "from torch.utils.data import DataLoader,Dataset # build dataset and dataloader\n",
    "\n",
    "import torchvision.transforms as transforms # transform to do data augmentation\n",
    "from PIL import Image # PIL to read image\n",
    "\n",
    "from tqdm import tqdm # progress bar\n",
    "import os # read img from file system\n",
    "import time\n",
    "\n",
    "import numpy as np\n",
    "import matplotlib.pyplot as plt\n",
    "%matplotlib inline"
   ]
  },
  {
   "cell_type": "markdown",
   "source": [
    "## set random seed"
   ],
   "metadata": {
    "collapsed": false
   }
  },
  {
   "cell_type": "code",
   "execution_count": null,
   "outputs": [],
   "source": [
    "seed = 7\n",
    "np.random.seed(seed)\n",
    "torch.manual_seed(seed)\n",
    "torch.cuda.manual_seed(seed)\n",
    "torch.cuda.manual_seed_all(seed)\n",
    "\n",
    "torch.backends.cudnn.benchmark = False\n",
    "torch.backends.cudnn.deterministic = True"
   ],
   "metadata": {
    "collapsed": false,
    "pycharm": {
     "name": "#%%\n"
    }
   }
  },
  {
   "cell_type": "markdown",
   "source": [
    "## define params"
   ],
   "metadata": {
    "collapsed": false
   }
  },
  {
   "cell_type": "code",
   "execution_count": null,
   "outputs": [],
   "source": [
    "LEARNING_RATE = 1e-3\n",
    "IMAGE_CHANNEL = 3\n",
    "NUM_EPOCH = 5\n",
    "BATCH_SIZE = 64\n",
    "DEVICE = \"cuda\" if torch.cuda.is_available() else \"cpu\""
   ],
   "metadata": {
    "collapsed": false,
    "pycharm": {
     "name": "#%%\n"
    }
   }
  },
  {
   "cell_type": "code",
   "execution_count": null,
   "outputs": [],
   "source": [
    "model = Gen(IMAGE_CHANNEL).to(DEVICE) # instance model\n",
    "model.apply(weight_init) # model do weight init\n",
    "# define optimizer\n",
    "optimizer = optim.Adam(model.parameters(), lr=LEARNING_RATE, betas=(0.5, 0.999))\n",
    "# define loss function\n",
    "criterion = nn.MSELoss()\n",
    "# define checkpoint for model saving\n",
    "model_checkpoint = {\n",
    "    'model':None,\n",
    "    'optimizer':None,\n",
    "}"
   ],
   "metadata": {
    "collapsed": false,
    "pycharm": {
     "name": "#%%\n"
    }
   }
  },
  {
   "cell_type": "markdown",
   "source": [
    "## training loop"
   ],
   "metadata": {
    "collapsed": false
   }
  },
  {
   "cell_type": "code",
   "execution_count": null,
   "outputs": [],
   "source": [
    "for epoch in range(NUM_EPOCH):\n",
    "    loop = tqdm(train_dataloader, leave=True)\n",
    "    for batch_idx, () in enumerate(loop):\n",
    "        model.train()\n",
    "        ### define training loop here  ###\n",
    "\n",
    "        ##################################\n",
    "        if batch_idx % 40 == 0:\n",
    "            model.eval()\n",
    "            with torch.no_grad():\n",
    "                # check acc\n",
    "                check_acc()\n",
    "\n",
    "    # saving models\n",
    "    model_checkpoint['model'] = model.state_dict()\n",
    "    model_checkpoint['optimizer'] = optimizer.state_dict()\n",
    "    save_checkpoint(model_checkpoint)\n"
   ],
   "metadata": {
    "collapsed": false,
    "pycharm": {
     "name": "#%%\n"
    }
   }
  }
 ],
 "metadata": {
  "kernelspec": {
   "display_name": "Python 3",
   "language": "python",
   "name": "python3"
  },
  "language_info": {
   "codemirror_mode": {
    "name": "ipython",
    "version": 2
   },
   "file_extension": ".py",
   "mimetype": "text/x-python",
   "name": "python",
   "nbconvert_exporter": "python",
   "pygments_lexer": "ipython2",
   "version": "2.7.6"
  }
 },
 "nbformat": 4,
 "nbformat_minor": 0
}