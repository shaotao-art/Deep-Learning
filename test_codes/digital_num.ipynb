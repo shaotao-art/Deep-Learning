{
  "nbformat": 4,
  "nbformat_minor": 0,
  "metadata": {
    "colab": {
      "name": "digital_num.ipynb",
      "provenance": [],
      "collapsed_sections": []
    },
    "kernelspec": {
      "display_name": "Python 3",
      "name": "python3"
    },
    "language_info": {
      "name": "python"
    }
  },
  "cells": [
    {
      "cell_type": "code",
      "metadata": {
        "id": "fO7oofEHy-NW"
      },
      "source": [
        "import pandas as pd\n",
        "import numpy as np\n",
        "\n",
        "%matplotlib inline\n",
        "\n",
        "\n",
        "import torch\n",
        "from torch import nn\n",
        "from matplotlib import pyplot as plt\n",
        "\n",
        "from torch.utils.data import Dataset\n",
        "from torch.utils.data import DataLoader"
      ],
      "execution_count": 82,
      "outputs": []
    },
    {
      "cell_type": "markdown",
      "metadata": {
        "id": "DxPMUp1MQsf6"
      },
      "source": [
        "## 从kaggle下载数据集"
      ]
    },
    {
      "cell_type": "code",
      "metadata": {
        "id": "Jnb3ajp_7N_0"
      },
      "source": [
        "! mkdir ~/.kaggle"
      ],
      "execution_count": null,
      "outputs": []
    },
    {
      "cell_type": "code",
      "metadata": {
        "id": "YCSgrGue5qXx"
      },
      "source": [
        "! cp kaggle.json ~/.kaggle/"
      ],
      "execution_count": null,
      "outputs": []
    },
    {
      "cell_type": "code",
      "metadata": {
        "id": "kVXW9ZgR7fa2"
      },
      "source": [
        "! chmod 600 ~/.kaggle/kaggle.json"
      ],
      "execution_count": null,
      "outputs": []
    },
    {
      "cell_type": "code",
      "metadata": {
        "colab": {
          "base_uri": "https://localhost:8080/"
        },
        "id": "diwy2yAy5du7",
        "outputId": "df207313-78f2-42ea-c0ec-015371b749f0"
      },
      "source": [
        "! kaggle competitions download -c digit-recognizer"
      ],
      "execution_count": null,
      "outputs": [
        {
          "name": "stdout",
          "output_type": "stream",
          "text": [
            "Warning: Looks like you're using an outdated API Version, please consider updating (server 1.5.12 / client 1.5.4)\n",
            "Downloading train.csv.zip to /content\n",
            " 98% 9.00M/9.16M [00:00<00:00, 45.7MB/s]\n",
            "100% 9.16M/9.16M [00:00<00:00, 44.6MB/s]\n",
            "Downloading sample_submission.csv to /content\n",
            "  0% 0.00/235k [00:00<?, ?B/s]\n",
            "100% 235k/235k [00:00<00:00, 146MB/s]\n",
            "Downloading test.csv.zip to /content\n",
            "  0% 0.00/6.09M [00:00<?, ?B/s]\n",
            "100% 6.09M/6.09M [00:00<00:00, 55.8MB/s]\n"
          ]
        }
      ]
    },
    {
      "cell_type": "code",
      "metadata": {
        "colab": {
          "base_uri": "https://localhost:8080/"
        },
        "id": "UCtqL8KoIksn",
        "outputId": "ec4ec37e-bb1b-467d-d929-d036a463ab73"
      },
      "source": [
        "## 解压文件到当前目录\n",
        "!unzip train.csv.zip -d ./ "
      ],
      "execution_count": null,
      "outputs": [
        {
          "output_type": "stream",
          "name": "stdout",
          "text": [
            "Archive:  train.csv.zip\n",
            "  inflating: ./train.csv             \n"
          ]
        }
      ]
    },
    {
      "cell_type": "code",
      "metadata": {
        "colab": {
          "base_uri": "https://localhost:8080/"
        },
        "id": "O8ef-N3U1wJL",
        "outputId": "a7d71f79-7208-428b-d2ac-89afede60e40"
      },
      "source": [
        "device = \"cuda\" if torch.cuda.is_available() else \"cpu\"\n",
        "print(device)"
      ],
      "execution_count": 83,
      "outputs": [
        {
          "output_type": "stream",
          "name": "stdout",
          "text": [
            "cpu\n"
          ]
        }
      ]
    },
    {
      "cell_type": "code",
      "metadata": {
        "id": "eixM21a31bY1"
      },
      "source": [
        "def split_train_valid_set(features,labels):\n",
        "  ## 分割train valid set\n",
        "  idx=np.arange(0,len(labels),10)\n",
        "  valid_set=features[idx]\n",
        "  valid_label=labels[idx]\n",
        "  ## 1/10为 valid_set\n",
        "  idx=[i for i in range(len(labels)) if i%10!=0]\n",
        "  train_set=features[idx]\n",
        "  train_label=labels[idx]\n",
        "\n",
        "  return (train_set,train_label),(valid_set,valid_label)"
      ],
      "execution_count": null,
      "outputs": []
    },
    {
      "cell_type": "code",
      "metadata": {
        "id": "P4VYmCnp2Rnl"
      },
      "source": [
        "## 数据预处理\n",
        "data=pd.read_csv(\"./train.csv\")\n",
        "train_data=data.iloc[:,1:]\n",
        "train_data=train_data.to_numpy()\n",
        "train_data=(train_data-np.min(train_data,axis=1,keepdims=True))/(np.max(train_data,axis=1,keepdims=True)-np.min(train_data,axis=1,keepdims=True))\n",
        "train_data=torch.Tensor(train_data)\n",
        "label=data.iloc[:,0]\n",
        "label=label.to_numpy()\n",
        "label=torch.Tensor(label)\n",
        "(train_set,train_label),(valid_set,valid_label)=split_train_valid_set(train_data,label)"
      ],
      "execution_count": null,
      "outputs": []
    },
    {
      "cell_type": "code",
      "metadata": {
        "id": "mxPNOpBn2Erk"
      },
      "source": [
        "## transform function\n",
        "def reshape_img(vec):\n",
        "  out=vec.view((1,28,28))\n",
        "  return out\n",
        "\n",
        "def one_hot(num):\n",
        "  x=torch.zeros(10)\n",
        "  x[num.long()]=1\n",
        "  return x\n"
      ],
      "execution_count": 84,
      "outputs": []
    },
    {
      "cell_type": "code",
      "metadata": {
        "id": "PqiChRcV1nrM"
      },
      "source": [
        "class CustomImageDataset(Dataset):\n",
        "    def __init__(self, label, img, transform=None, target_transform=None):\n",
        "        self.labels = label\n",
        "        self.imgs = img\n",
        "        self.transform = transform\n",
        "        self.target_transform = target_transform\n",
        "\n",
        "    def __len__(self):\n",
        "        return len(self.imgs)\n",
        "\n",
        "    def __getitem__(self, idx):\n",
        "        ## 注意此处为了在train和test时都能使用的写法\n",
        "        if self.labels is not None:\n",
        "          image = self.imgs[idx]\n",
        "          label = self.labels[idx]\n",
        "\n",
        "          ## 进行变换\n",
        "          if self.transform:\n",
        "              image = self.transform(image)\n",
        "          if self.target_transform:\n",
        "              label = self.target_transform(label)\n",
        "          \n",
        "          return image, label\n",
        "        else:\n",
        "          image = self.imgs[idx]\n",
        "          if self.transform:\n",
        "            image = self.transform(image)\n",
        "          return image\n"
      ],
      "execution_count": 85,
      "outputs": []
    },
    {
      "cell_type": "code",
      "metadata": {
        "id": "7qtsDVcn744S"
      },
      "source": [
        "training_data=CustomImageDataset(train_label,train_set,reshape_img,one_hot)\n",
        "train_dataloader = DataLoader(training_data, batch_size=64, shuffle=True)\n",
        "valid_data=CustomImageDataset(valid_label,valid_set,reshape_img,one_hot)\n",
        "valid_dataloader = DataLoader(valid_data, batch_size=64, shuffle=False)"
      ],
      "execution_count": null,
      "outputs": []
    },
    {
      "cell_type": "code",
      "metadata": {
        "id": "Hpd0ZWVK10d7"
      },
      "source": [
        "def valid(model,valid_dataloador,device,loss_fn,num_valid_sample):\n",
        "    ## input: model\n",
        "    ## return: valid acc\n",
        "    model.eval()\n",
        "\n",
        "    num_right=0\n",
        "    with torch.no_grad():\n",
        "        for X, y in valid_dataloador:\n",
        "            X, y = X.to(device), y.to(device)\n",
        "\n",
        "            pred,vect = model(X)\n",
        "\n",
        "            ## 计算预测准确性\n",
        "            ls=nn.Softmax(dim=1)\n",
        "            a=ls(pred)\n",
        "            idx=torch.argmax(a,dim=1)\n",
        "            right=y[torch.arange(0,len(idx)),idx]\n",
        "            num_right+=torch.sum(right)\n",
        "            \n",
        "    acc=num_right/num_valid_sample\n",
        "    return acc"
      ],
      "execution_count": null,
      "outputs": []
    },
    {
      "cell_type": "code",
      "metadata": {
        "id": "u3hOFa4y13_G"
      },
      "source": [
        "##  定义model\n",
        "class NeuralNetwork(nn.Module):\n",
        "    def __init__(self):\n",
        "        super(NeuralNetwork, self).__init__()\n",
        "        self.conv1 = nn.Sequential(         \n",
        "            nn.Conv2d(\n",
        "                in_channels=1,              \n",
        "                out_channels=16,            \n",
        "                kernel_size=5,              \n",
        "                stride=1,                   \n",
        "                padding=2,                  \n",
        "            ),                              \n",
        "            nn.ReLU(),                      \n",
        "            nn.MaxPool2d(kernel_size=2),    \n",
        "        )\n",
        "        self.conv2 = nn.Sequential(         \n",
        "            nn.Conv2d(16, 32, 5, 1, 2),     \n",
        "            nn.ReLU(),                      \n",
        "            nn.MaxPool2d(2),                \n",
        "        )\n",
        "        # fully connected layer, output 10 classes\n",
        "        self.out = nn.Linear(32 * 7 * 7, 10)\n",
        "\n",
        "    def forward(self, x):\n",
        "        x = self.conv1(x)\n",
        "        x = self.conv2(x)\n",
        " \n",
        "        ## x为通过卷积层后的flatten向量\n",
        "        x = x.view(x.size(0), -1)       \n",
        "        output = self.out(x)\n",
        "        ########### return x for visualization #####################\n",
        "        return output, x    "
      ],
      "execution_count": 90,
      "outputs": []
    },
    {
      "cell_type": "code",
      "metadata": {
        "id": "u9PzUFIL1zGs"
      },
      "source": [
        "def train(train_dataloader,valid_dataloador, model, loss_fn, optimizer,device):\n",
        "    train_loss_lst=[]\n",
        "    valid_acc_lst=[]\n",
        "\n",
        "    epoch=0\n",
        "    n_epoch=30\n",
        "    max_acc=0.01\n",
        "    early_stop_cnt=0\n",
        "    early_stop_cnt_max=30\n",
        "\n",
        "    size = len(train_dataloader.dataset)\n",
        "    ## 将model调为训练模式\n",
        "    model.train()\n",
        "\n",
        "    while epoch<=n_epoch:\n",
        "        print(f\"epoch: {epoch+1},\")\n",
        "        for batch, (X, y) in enumerate(train_dataloader):\n",
        "            X, y = X.to(device), y.to(device)\n",
        "\n",
        "            # Compute prediction error\n",
        "            pred,vec = model(X)\n",
        "\n",
        "\n",
        "            ##################################################\n",
        "            ###计算-log时可能会出现极端值  自己手写的时候要注意  \n",
        "            ### pytorch应该已经优化过了\n",
        "            ################################################\n",
        "            loss = loss_fn(pred, y)\n",
        "\n",
        "\n",
        "            \n",
        "\n",
        "            train_loss_lst.append(loss.item())\n",
        "\n",
        "            # Backpropagation\n",
        "            optimizer.zero_grad()\n",
        "            loss.backward()\n",
        "            optimizer.step()\n",
        "     \n",
        "            if batch % 100 == 0:\n",
        "                loss, current = loss.item(), batch * len(X)\n",
        "                print(f\"loss: {loss:>7f}  [{current:>5d}/{size:>5d}]\")\n",
        "\n",
        "        epoch+=1    \n",
        "        \n",
        "        ## 进行模型评估valid\n",
        "        acc=valid(model,valid_dataloador,device,loss_fn,len(valid_dataloador.dataset))\n",
        "        valid_acc_lst.append(acc)\n",
        "        if acc>max_acc:\n",
        "            max_acc=acc\n",
        "            torch.save(model.state_dict(),'./model.pth')  \n",
        "            print(f'epoch: {epoch}, acc is increasing , acc is {acc}')\n",
        "            early_stop_cnt=0\n",
        "        else:\n",
        "            print(f'epoch: {epoch}, acc is {acc}')\n",
        "            early_stop_cnt+=1\n",
        "            if early_stop_cnt>=early_stop_cnt_max:\n",
        "                break\n",
        "        print(\"---------------------------\")\n",
        "    return (train_loss_lst,valid_acc_lst)"
      ],
      "execution_count": null,
      "outputs": []
    },
    {
      "cell_type": "code",
      "metadata": {
        "colab": {
          "base_uri": "https://localhost:8080/"
        },
        "id": "LgXp-L8j175S",
        "outputId": "c5636f3c-2569-46be-94b3-1bf57421aa36"
      },
      "source": [
        "loss_fn = nn.CrossEntropyLoss()\n",
        "model = NeuralNetwork().to(device)\n",
        "print(model)\n",
        "optimizer = torch.optim.Adam(model.parameters(), lr=1e-5)"
      ],
      "execution_count": 91,
      "outputs": [
        {
          "output_type": "stream",
          "name": "stdout",
          "text": [
            "NeuralNetwork(\n",
            "  (conv1): Sequential(\n",
            "    (0): Conv2d(1, 16, kernel_size=(5, 5), stride=(1, 1), padding=(2, 2))\n",
            "    (1): ReLU()\n",
            "    (2): MaxPool2d(kernel_size=2, stride=2, padding=0, dilation=1, ceil_mode=False)\n",
            "  )\n",
            "  (conv2): Sequential(\n",
            "    (0): Conv2d(16, 32, kernel_size=(5, 5), stride=(1, 1), padding=(2, 2))\n",
            "    (1): ReLU()\n",
            "    (2): MaxPool2d(kernel_size=2, stride=2, padding=0, dilation=1, ceil_mode=False)\n",
            "  )\n",
            "  (out): Linear(in_features=1568, out_features=10, bias=True)\n",
            ")\n"
          ]
        }
      ]
    },
    {
      "cell_type": "code",
      "metadata": {
        "colab": {
          "base_uri": "https://localhost:8080/"
        },
        "id": "y-D-Qdfe1_cq",
        "outputId": "b3aa123f-c0e5-4d7e-bec8-9849fc1f30e9"
      },
      "source": [
        "(train_loss_lst,valid_acc_lst)=train(train_dataloader,valid_dataloader, model, loss_fn, optimizer,device)"
      ],
      "execution_count": null,
      "outputs": [
        {
          "output_type": "stream",
          "name": "stdout",
          "text": [
            "epoch: 1,\n",
            "loss: 2.299555  [    0/37800]\n",
            "loss: 2.284030  [ 6400/37800]\n",
            "loss: 2.258494  [12800/37800]\n",
            "loss: 2.216041  [19200/37800]\n",
            "loss: 2.177663  [25600/37800]\n",
            "loss: 2.117983  [32000/37800]\n",
            "epoch: 1, acc is increasing , acc is 0.6790476441383362\n",
            "---------------------------\n",
            "epoch: 2,\n",
            "loss: 1.981938  [    0/37800]\n",
            "loss: 1.932313  [ 6400/37800]\n",
            "loss: 1.898769  [12800/37800]\n",
            "loss: 1.695680  [19200/37800]\n",
            "loss: 1.648542  [25600/37800]\n",
            "loss: 1.496078  [32000/37800]\n",
            "epoch: 2, acc is increasing , acc is 0.7780952453613281\n",
            "---------------------------\n",
            "epoch: 3,\n",
            "loss: 1.473880  [    0/37800]\n",
            "loss: 1.300386  [ 6400/37800]\n",
            "loss: 1.204085  [12800/37800]\n",
            "loss: 1.166735  [19200/37800]\n",
            "loss: 1.003744  [25600/37800]\n",
            "loss: 1.048886  [32000/37800]\n",
            "epoch: 3, acc is increasing , acc is 0.8135714530944824\n",
            "---------------------------\n",
            "epoch: 4,\n",
            "loss: 0.893793  [    0/37800]\n",
            "loss: 0.903706  [ 6400/37800]\n",
            "loss: 0.850955  [12800/37800]\n",
            "loss: 0.844471  [19200/37800]\n",
            "loss: 0.768419  [25600/37800]\n",
            "loss: 0.593522  [32000/37800]\n",
            "epoch: 4, acc is increasing , acc is 0.8440476059913635\n",
            "---------------------------\n",
            "epoch: 5,\n",
            "loss: 0.607222  [    0/37800]\n",
            "loss: 0.631840  [ 6400/37800]\n",
            "loss: 0.574095  [12800/37800]\n",
            "loss: 0.455521  [19200/37800]\n",
            "loss: 0.535714  [25600/37800]\n",
            "loss: 0.355102  [32000/37800]\n",
            "epoch: 5, acc is increasing , acc is 0.8645238280296326\n",
            "---------------------------\n",
            "epoch: 6,\n",
            "loss: 0.492091  [    0/37800]\n",
            "loss: 0.536191  [ 6400/37800]\n",
            "loss: 0.496341  [12800/37800]\n",
            "loss: 0.466626  [19200/37800]\n",
            "loss: 0.512778  [25600/37800]\n",
            "loss: 0.323494  [32000/37800]\n",
            "epoch: 6, acc is increasing , acc is 0.8790476322174072\n",
            "---------------------------\n",
            "epoch: 7,\n",
            "loss: 0.602715  [    0/37800]\n",
            "loss: 0.457360  [ 6400/37800]\n",
            "loss: 0.334240  [12800/37800]\n",
            "loss: 0.375699  [19200/37800]\n",
            "loss: 0.502548  [25600/37800]\n",
            "loss: 0.464160  [32000/37800]\n",
            "epoch: 7, acc is increasing , acc is 0.886904776096344\n",
            "---------------------------\n",
            "epoch: 8,\n",
            "loss: 0.354830  [    0/37800]\n",
            "loss: 0.426027  [ 6400/37800]\n",
            "loss: 0.465070  [12800/37800]\n",
            "loss: 0.473125  [19200/37800]\n",
            "loss: 0.365143  [25600/37800]\n",
            "loss: 0.439566  [32000/37800]\n",
            "epoch: 8, acc is increasing , acc is 0.8945237994194031\n",
            "---------------------------\n",
            "epoch: 9,\n",
            "loss: 0.411883  [    0/37800]\n",
            "loss: 0.460739  [ 6400/37800]\n",
            "loss: 0.453005  [12800/37800]\n",
            "loss: 0.315892  [19200/37800]\n",
            "loss: 0.298800  [25600/37800]\n",
            "loss: 0.437026  [32000/37800]\n",
            "epoch: 9, acc is increasing , acc is 0.897857129573822\n",
            "---------------------------\n",
            "epoch: 10,\n",
            "loss: 0.465589  [    0/37800]\n",
            "loss: 0.437319  [ 6400/37800]\n",
            "loss: 0.506061  [12800/37800]\n",
            "loss: 0.294663  [19200/37800]\n",
            "loss: 0.306394  [25600/37800]\n",
            "loss: 0.387321  [32000/37800]\n",
            "epoch: 10, acc is increasing , acc is 0.8997619152069092\n",
            "---------------------------\n",
            "epoch: 11,\n",
            "loss: 0.304590  [    0/37800]\n",
            "loss: 0.303887  [ 6400/37800]\n",
            "loss: 0.252884  [12800/37800]\n",
            "loss: 0.225805  [19200/37800]\n",
            "loss: 0.327964  [25600/37800]\n",
            "loss: 0.248900  [32000/37800]\n",
            "epoch: 11, acc is increasing , acc is 0.9092857241630554\n",
            "---------------------------\n",
            "epoch: 12,\n",
            "loss: 0.370315  [    0/37800]\n",
            "loss: 0.426805  [ 6400/37800]\n",
            "loss: 0.438475  [12800/37800]\n",
            "loss: 0.440661  [19200/37800]\n",
            "loss: 0.269608  [25600/37800]\n",
            "loss: 0.247429  [32000/37800]\n",
            "epoch: 12, acc is increasing , acc is 0.9116666913032532\n",
            "---------------------------\n",
            "epoch: 13,\n",
            "loss: 0.214708  [    0/37800]\n",
            "loss: 0.377552  [ 6400/37800]\n",
            "loss: 0.341032  [12800/37800]\n",
            "loss: 0.342778  [19200/37800]\n",
            "loss: 0.238551  [25600/37800]\n",
            "loss: 0.248041  [32000/37800]\n",
            "epoch: 13, acc is increasing , acc is 0.9140475988388062\n",
            "---------------------------\n",
            "epoch: 14,\n",
            "loss: 0.317395  [    0/37800]\n",
            "loss: 0.440307  [ 6400/37800]\n",
            "loss: 0.182878  [12800/37800]\n",
            "loss: 0.225798  [19200/37800]\n",
            "loss: 0.221876  [25600/37800]\n",
            "loss: 0.263131  [32000/37800]\n",
            "epoch: 14, acc is increasing , acc is 0.9164285659790039\n",
            "---------------------------\n",
            "epoch: 15,\n",
            "loss: 0.245490  [    0/37800]\n",
            "loss: 0.166793  [ 6400/37800]\n",
            "loss: 0.202037  [12800/37800]\n",
            "loss: 0.290919  [19200/37800]\n",
            "loss: 0.224282  [25600/37800]\n",
            "loss: 0.385817  [32000/37800]\n",
            "epoch: 15, acc is increasing , acc is 0.9197618961334229\n",
            "---------------------------\n",
            "epoch: 16,\n",
            "loss: 0.272616  [    0/37800]\n",
            "loss: 0.245730  [ 6400/37800]\n",
            "loss: 0.138158  [12800/37800]\n",
            "loss: 0.166057  [19200/37800]\n",
            "loss: 0.163677  [25600/37800]\n",
            "loss: 0.160360  [32000/37800]\n",
            "epoch: 16, acc is increasing , acc is 0.9221428632736206\n",
            "---------------------------\n",
            "epoch: 17,\n",
            "loss: 0.245945  [    0/37800]\n",
            "loss: 0.461819  [ 6400/37800]\n",
            "loss: 0.103527  [12800/37800]\n",
            "loss: 0.313857  [19200/37800]\n",
            "loss: 0.355329  [25600/37800]\n",
            "loss: 0.208637  [32000/37800]\n",
            "epoch: 17, acc is increasing , acc is 0.9233333468437195\n",
            "---------------------------\n",
            "epoch: 18,\n",
            "loss: 0.251756  [    0/37800]\n",
            "loss: 0.272651  [ 6400/37800]\n",
            "loss: 0.206037  [12800/37800]\n",
            "loss: 0.249954  [19200/37800]\n",
            "loss: 0.176483  [25600/37800]\n",
            "loss: 0.351470  [32000/37800]\n",
            "epoch: 18, acc is increasing , acc is 0.9276190400123596\n",
            "---------------------------\n",
            "epoch: 19,\n",
            "loss: 0.104914  [    0/37800]\n",
            "loss: 0.209178  [ 6400/37800]\n",
            "loss: 0.130456  [12800/37800]\n",
            "loss: 0.256503  [19200/37800]\n",
            "loss: 0.281955  [25600/37800]\n",
            "loss: 0.174497  [32000/37800]\n",
            "epoch: 19, acc is increasing , acc is 0.9278571605682373\n",
            "---------------------------\n",
            "epoch: 20,\n",
            "loss: 0.476391  [    0/37800]\n",
            "loss: 0.276495  [ 6400/37800]\n",
            "loss: 0.182101  [12800/37800]\n",
            "loss: 0.137671  [19200/37800]\n",
            "loss: 0.093827  [25600/37800]\n",
            "loss: 0.381208  [32000/37800]\n",
            "epoch: 20, acc is 0.927142858505249\n",
            "---------------------------\n",
            "epoch: 21,\n",
            "loss: 0.299039  [    0/37800]\n",
            "loss: 0.227822  [ 6400/37800]\n",
            "loss: 0.283896  [12800/37800]\n",
            "loss: 0.193540  [19200/37800]\n",
            "loss: 0.104444  [25600/37800]\n",
            "loss: 0.434289  [32000/37800]\n",
            "epoch: 21, acc is increasing , acc is 0.9307143092155457\n",
            "---------------------------\n",
            "epoch: 22,\n",
            "loss: 0.267517  [    0/37800]\n",
            "loss: 0.238800  [ 6400/37800]\n",
            "loss: 0.261762  [12800/37800]\n",
            "loss: 0.117646  [19200/37800]\n",
            "loss: 0.223324  [25600/37800]\n",
            "loss: 0.209439  [32000/37800]\n",
            "epoch: 22, acc is increasing , acc is 0.9319047331809998\n",
            "---------------------------\n",
            "epoch: 23,\n",
            "loss: 0.371680  [    0/37800]\n",
            "loss: 0.161933  [ 6400/37800]\n",
            "loss: 0.215390  [12800/37800]\n",
            "loss: 0.188556  [19200/37800]\n",
            "loss: 0.222163  [25600/37800]\n",
            "loss: 0.201122  [32000/37800]\n",
            "epoch: 23, acc is 0.9316666722297668\n",
            "---------------------------\n",
            "epoch: 24,\n",
            "loss: 0.053806  [    0/37800]\n",
            "loss: 0.203672  [ 6400/37800]\n",
            "loss: 0.181415  [12800/37800]\n",
            "loss: 0.391581  [19200/37800]\n",
            "loss: 0.318777  [25600/37800]\n",
            "loss: 0.171916  [32000/37800]\n",
            "epoch: 24, acc is increasing , acc is 0.932619035243988\n",
            "---------------------------\n",
            "epoch: 25,\n",
            "loss: 0.276266  [    0/37800]\n",
            "loss: 0.314842  [ 6400/37800]\n",
            "loss: 0.140527  [12800/37800]\n",
            "loss: 0.301749  [19200/37800]\n",
            "loss: 0.206422  [25600/37800]\n",
            "loss: 0.337437  [32000/37800]\n",
            "epoch: 25, acc is increasing , acc is 0.933571457862854\n",
            "---------------------------\n",
            "epoch: 26,\n",
            "loss: 0.240632  [    0/37800]\n",
            "loss: 0.154896  [ 6400/37800]\n",
            "loss: 0.304687  [12800/37800]\n",
            "loss: 0.134327  [19200/37800]\n",
            "loss: 0.312767  [25600/37800]\n",
            "loss: 0.242878  [32000/37800]\n",
            "epoch: 26, acc is increasing , acc is 0.9347618818283081\n",
            "---------------------------\n",
            "epoch: 27,\n",
            "loss: 0.132602  [    0/37800]\n",
            "loss: 0.297472  [ 6400/37800]\n",
            "loss: 0.073992  [12800/37800]\n",
            "loss: 0.249497  [19200/37800]\n",
            "loss: 0.273452  [25600/37800]\n",
            "loss: 0.180999  [32000/37800]\n",
            "epoch: 27, acc is increasing , acc is 0.9361904859542847\n",
            "---------------------------\n",
            "epoch: 28,\n",
            "loss: 0.425756  [    0/37800]\n",
            "loss: 0.117994  [ 6400/37800]\n",
            "loss: 0.139743  [12800/37800]\n",
            "loss: 0.178890  [19200/37800]\n",
            "loss: 0.120864  [25600/37800]\n",
            "loss: 0.183028  [32000/37800]\n",
            "epoch: 28, acc is increasing , acc is 0.938095211982727\n",
            "---------------------------\n",
            "epoch: 29,\n",
            "loss: 0.080197  [    0/37800]\n",
            "loss: 0.174515  [ 6400/37800]\n",
            "loss: 0.163431  [12800/37800]\n",
            "loss: 0.183209  [19200/37800]\n",
            "loss: 0.236346  [25600/37800]\n",
            "loss: 0.184853  [32000/37800]\n",
            "epoch: 29, acc is increasing , acc is 0.9397618770599365\n",
            "---------------------------\n",
            "epoch: 30,\n",
            "loss: 0.170725  [    0/37800]\n",
            "loss: 0.187437  [ 6400/37800]\n",
            "loss: 0.230616  [12800/37800]\n",
            "loss: 0.198548  [19200/37800]\n",
            "loss: 0.126106  [25600/37800]\n",
            "loss: 0.255687  [32000/37800]\n",
            "epoch: 30, acc is increasing , acc is 0.9407142996788025\n",
            "---------------------------\n",
            "epoch: 31,\n",
            "loss: 0.124895  [    0/37800]\n",
            "loss: 0.153701  [ 6400/37800]\n",
            "loss: 0.241273  [12800/37800]\n",
            "loss: 0.072822  [19200/37800]\n",
            "loss: 0.107779  [25600/37800]\n",
            "loss: 0.278481  [32000/37800]\n",
            "epoch: 31, acc is increasing , acc is 0.9426190257072449\n",
            "---------------------------\n"
          ]
        }
      ]
    },
    {
      "cell_type": "code",
      "metadata": {
        "colab": {
          "base_uri": "https://localhost:8080/",
          "height": 1000
        },
        "id": "N8EcinUgTgDN",
        "outputId": "2cb14124-f5a7-48e6-fafd-7373db76c9ef"
      },
      "source": [
        "for name, param in model.named_parameters():\n",
        "  i=0\n",
        "  plt.subplot(2,5,i+1)\n",
        "  print(param[2].detach().numpy())\n",
        "  print(\"------------\")\n",
        "  # plt.imshow(param[2].detach().numpy().reshape((5,5)))\n",
        "  i+=1\n",
        "  if i==10:\n",
        "    break\n",
        "    # print(f\"Layer: {name} | Size: {param.size()} | Values : {param[:2]} \\n\")"
      ],
      "execution_count": null,
      "outputs": [
        {
          "output_type": "stream",
          "name": "stdout",
          "text": [
            "[[[ 0.0046196  -0.17975196 -0.04769272 -0.1447104  -0.15203762]\n",
            "  [ 0.1564641   0.13087675  0.04981941 -0.01300564 -0.15005241]\n",
            "  [ 0.23341967 -0.04069765 -0.087758    0.05672561  0.00529127]\n",
            "  [ 0.12660982 -0.02527595  0.17719847  0.2832704   0.24682334]\n",
            "  [-0.01411771  0.06081422  0.28014275  0.21752231 -0.02450305]]]\n",
            "------------\n",
            "0.13430683\n",
            "------------\n",
            "[[[ 0.06262829 -0.00105795  0.08439059  0.02796151  0.05185966]\n",
            "  [ 0.01308961  0.0355148  -0.01169942 -0.02282014  0.02518433]\n",
            "  [-0.05802576 -0.07186291 -0.04460648  0.05973607  0.01654151]\n",
            "  [ 0.01537652  0.02808821  0.01864746  0.05935202  0.02931063]\n",
            "  [-0.00543798 -0.01477929  0.01204546 -0.02291608 -0.05351902]]\n",
            "\n",
            " [[-0.00285133 -0.01925833  0.01612761  0.00361229  0.05853289]\n",
            "  [-0.04713516 -0.07456519 -0.03680347  0.00485963  0.05786131]\n",
            "  [ 0.04584093  0.02672918  0.02026513 -0.02344584  0.00520404]\n",
            "  [ 0.06670136  0.02317325 -0.01010068  0.04152089 -0.03995185]\n",
            "  [-0.02517712  0.02592492  0.05253998  0.06655616 -0.04675691]]\n",
            "\n",
            " [[ 0.06283899  0.01583761 -0.03070059  0.0537751   0.01842255]\n",
            "  [-0.06316999 -0.01271379 -0.0215671   0.03172446  0.02995419]\n",
            "  [ 0.0330187   0.03626796  0.0360756   0.03067712  0.0475751 ]\n",
            "  [ 0.06809096 -0.02157302  0.01791094 -0.00423647 -0.03247883]\n",
            "  [-0.0156252   0.00839772  0.03243193  0.05462629  0.02746351]]\n",
            "\n",
            " [[-0.00024772  0.03566653  0.03988843  0.06046056  0.05547141]\n",
            "  [-0.03180891 -0.01580244  0.04976282  0.05835057 -0.00963875]\n",
            "  [-0.04041342  0.02834165  0.04333967  0.01051089 -0.00220019]\n",
            "  [ 0.00437377  0.0061799  -0.0275035   0.0478996  -0.03345317]\n",
            "  [-0.00548474  0.03277957  0.05228283  0.00383925 -0.03516236]]\n",
            "\n",
            " [[-0.02049338  0.03279756  0.04300707  0.05255215 -0.03010137]\n",
            "  [ 0.01532389  0.01020085  0.05035952  0.01424049  0.00129407]\n",
            "  [-0.00420189 -0.03671026 -0.00327228  0.09198271  0.02781322]\n",
            "  [ 0.02079437  0.02941544  0.07957389 -0.01372372  0.04585252]\n",
            "  [ 0.06677397  0.0887648   0.06082563 -0.07420444 -0.02302216]]\n",
            "\n",
            " [[-0.00432063  0.0700177   0.07107674  0.05696494 -0.02723915]\n",
            "  [ 0.04821007 -0.00208128  0.00677755  0.04729117 -0.04579409]\n",
            "  [-0.01993421 -0.02477176  0.00807264  0.05748942 -0.0497571 ]\n",
            "  [-0.0232736  -0.0120652   0.07744173 -0.00380031  0.02311875]\n",
            "  [ 0.04313246  0.06497057  0.03001071 -0.01713535 -0.06282614]]\n",
            "\n",
            " [[ 0.0078221   0.01027141 -0.00038305  0.05077324  0.04743717]\n",
            "  [-0.02159817  0.030444    0.03070477 -0.02780981  0.04238661]\n",
            "  [-0.03709554  0.04512212 -0.02325687  0.01747577 -0.003125  ]\n",
            "  [-0.01603811 -0.02502098 -0.01316442  0.01305222  0.01137145]\n",
            "  [ 0.01064727 -0.0114896  -0.00424354 -0.01790567 -0.02082932]]\n",
            "\n",
            " [[ 0.04748508  0.03762749  0.01617513  0.02615638 -0.0018639 ]\n",
            "  [-0.04543299 -0.04611712  0.03425355  0.01739549 -0.01945356]\n",
            "  [-0.01447226 -0.05325088 -0.02230722  0.07012947  0.00159458]\n",
            "  [ 0.02467015  0.05966699  0.03984265 -0.01118691  0.01931422]\n",
            "  [ 0.04490637  0.04044742  0.04799363 -0.00280671 -0.00877333]]\n",
            "\n",
            " [[ 0.00397298 -0.02185826  0.04856079  0.00615192 -0.02862819]\n",
            "  [-0.03707561 -0.0847007   0.02422038  0.02043231 -0.0288849 ]\n",
            "  [ 0.04642387  0.06274936  0.08936347  0.00925239  0.05084749]\n",
            "  [ 0.02516358 -0.01522176 -0.01177597 -0.04795616  0.02248063]\n",
            "  [-0.01417114  0.0609275  -0.01143637 -0.06146181 -0.03483084]]\n",
            "\n",
            " [[ 0.03369135  0.04223564  0.06285035 -0.00260037  0.04793497]\n",
            "  [ 0.00351263  0.02114422 -0.01687482 -0.04078956 -0.02347547]\n",
            "  [-0.06322539  0.02594393  0.04281894  0.03187152  0.05796914]\n",
            "  [-0.03013535  0.05609113  0.01890834 -0.02398058  0.00814232]\n",
            "  [ 0.02247325  0.05227447  0.05182387  0.00463969 -0.04580919]]\n",
            "\n",
            " [[-0.06378774 -0.04233095  0.01011878 -0.04216639  0.00551228]\n",
            "  [-0.01903458 -0.02233594 -0.02092801 -0.0301067  -0.01905058]\n",
            "  [-0.02907387  0.04362237  0.00765114  0.04090303 -0.00437253]\n",
            "  [ 0.00133555 -0.01682456 -0.02274917 -0.01679943 -0.03104246]\n",
            "  [ 0.01926521  0.01456346 -0.0226239   0.04122945 -0.01649548]]\n",
            "\n",
            " [[ 0.00274913  0.00668453  0.06404652  0.0642048   0.04955092]\n",
            "  [-0.06067318 -0.07254123 -0.05447832  0.02051716  0.02687683]\n",
            "  [-0.00103112  0.00199442  0.03023661  0.06398343  0.05003924]\n",
            "  [ 0.03944574  0.0345583   0.03963552  0.07375641  0.01229788]\n",
            "  [-0.02839301  0.05782333  0.06232291  0.01461312  0.02847155]]\n",
            "\n",
            " [[ 0.0438855   0.07433423 -0.00540813  0.0140848   0.07297339]\n",
            "  [ 0.00613879 -0.01663783  0.04861524  0.05999643  0.04281789]\n",
            "  [-0.02786748 -0.06288169 -0.00083172 -0.00517205  0.00274041]\n",
            "  [-0.00107117 -0.02810581  0.00315104  0.02959273  0.02796256]\n",
            "  [ 0.00021611 -0.00912163  0.0445743   0.02518964 -0.01862044]]\n",
            "\n",
            " [[ 0.02320183 -0.00707421  0.02866813  0.02674788 -0.00853643]\n",
            "  [ 0.07096223  0.01414194 -0.05132049 -0.00677909  0.0332901 ]\n",
            "  [-0.03031667 -0.04498168 -0.02865833  0.03743972  0.00908917]\n",
            "  [-0.04589029 -0.02350073 -0.0221345   0.06004568  0.04937537]\n",
            "  [ 0.04114906  0.02508845  0.04457087  0.02809771  0.02633896]]\n",
            "\n",
            " [[ 0.02237976  0.0225713   0.02438803  0.09049902  0.03132261]\n",
            "  [-0.02845002 -0.04650284  0.00682438  0.07601028  0.01411562]\n",
            "  [ 0.0274161   0.00375202 -0.00157123  0.05888882  0.01096671]\n",
            "  [ 0.02222972  0.01178585  0.04686392  0.01111714  0.01178722]\n",
            "  [-0.01242514  0.05806579  0.02992962 -0.03041244 -0.05384497]]\n",
            "\n",
            " [[ 0.06684384  0.0219699   0.09294891  0.10195664  0.01532654]\n",
            "  [-0.02285524  0.00942725  0.03273043 -0.00997742  0.05510658]\n",
            "  [-0.02375504  0.06157516  0.06380974 -0.00068487  0.02358298]\n",
            "  [ 0.0190866   0.001956    0.03455745  0.02183944 -0.0122617 ]\n",
            "  [ 0.02727468  0.05526007 -0.02131355  0.03489336  0.020025  ]]]\n",
            "------------\n",
            "0.014076782\n",
            "------------\n",
            "[ 0.00675156  0.00744444 -0.00780084 ...  0.00285821  0.01818529\n",
            "  0.02714555]\n",
            "------------\n",
            "0.019728264\n",
            "------------\n"
          ]
        },
        {
          "output_type": "stream",
          "name": "stderr",
          "text": [
            "/usr/local/lib/python3.7/dist-packages/ipykernel_launcher.py:3: MatplotlibDeprecationWarning: Adding an axes using the same arguments as a previous axes currently reuses the earlier instance.  In a future version, a new instance will always be created and returned.  Meanwhile, this warning can be suppressed, and the future behavior ensured, by passing a unique label to each axes instance.\n",
            "  This is separate from the ipykernel package so we can avoid doing imports until\n"
          ]
        },
        {
          "output_type": "display_data",
          "data": {
            "image/png": "[encoded data removed]",
            "text/plain": [
              "<Figure size 432x288 with 1 Axes>"
            ]
          },
          "metadata": {
            "needs_background": "light"
          }
        }
      ]
    },
    {
      "cell_type": "code",
      "metadata": {
        "colab": {
          "base_uri": "https://localhost:8080/",
          "height": 295
        },
        "id": "Xyo-aJwOURcj",
        "outputId": "739b12ba-8da8-444f-d58e-86f1c09f41ac"
      },
      "source": [
        "plt.title(\"acc curve\")\n",
        "error_string=\"CE\"\n",
        "x=np.arange(len(valid_acc_lst))\n",
        "plt.plot(x,valid_acc_lst,label='train_loss')\n",
        "plt.xlabel(\"batch step\")\n",
        "plt.ylabel(f\"error({error_string})\")\n",
        "plt.legend()\n",
        "plt.show()"
      ],
      "execution_count": null,
      "outputs": [
        {
          "output_type": "display_data",
          "data": {
            "image/png": "[encoded data removed]",
            "text/plain": [
              "<Figure size 432x288 with 1 Axes>"
            ]
          },
          "metadata": {
            "needs_background": "light"
          }
        }
      ]
    },
    {
      "cell_type": "code",
      "metadata": {
        "colab": {
          "base_uri": "https://localhost:8080/",
          "height": 295
        },
        "id": "7pP-ccR1TE-m",
        "outputId": "98d73dc9-30d4-4971-c9df-13f7f2e68f50"
      },
      "source": [
        "plt.title(\"loss curve\")\n",
        "error_string=\"CE\"\n",
        "x=np.arange(len(train_loss_lst))\n",
        "plt.plot(x,train_loss_lst,label='train_loss')\n",
        "plt.xlabel(\"batch step\")\n",
        "plt.ylabel(f\"error({error_string})\")\n",
        "plt.legend()\n",
        "plt.show()"
      ],
      "execution_count": null,
      "outputs": [
        {
          "output_type": "display_data",
          "data": {
            "image/png": "[encoded data removed]",
            "text/plain": [
              "<Figure size 432x288 with 1 Axes>"
            ]
          },
          "metadata": {
            "needs_background": "light"
          }
        }
      ]
    },
    {
      "cell_type": "code",
      "metadata": {
        "colab": {
          "base_uri": "https://localhost:8080/"
        },
        "id": "M6sPsbkxWTIa",
        "outputId": "a3113e70-1473-4966-e993-61915507418b"
      },
      "source": [
        "!unzip test.csv.zip -d ."
      ],
      "execution_count": null,
      "outputs": [
        {
          "output_type": "stream",
          "name": "stdout",
          "text": [
            "Archive:  test.csv.zip\n",
            "  inflating: ./test.csv              \n"
          ]
        }
      ]
    },
    {
      "cell_type": "markdown",
      "metadata": {
        "id": "MxVuBsvLi2-C"
      },
      "source": [
        "## load test_data"
      ]
    },
    {
      "cell_type": "code",
      "metadata": {
        "id": "sbMcLTC9WxPS"
      },
      "source": [
        "test_data=pd.read_csv(\"./test.csv\").to_numpy()"
      ],
      "execution_count": 86,
      "outputs": []
    },
    {
      "cell_type": "code",
      "metadata": {
        "id": "f461HCuuXox4"
      },
      "source": [
        "test_data=(test_data-np.min(test_data,axis=1,keepdims=True))/(np.max(test_data,axis=1,keepdims=True)-np.min(test_data,axis=1,keepdims=True))\n",
        "test_data=torch.Tensor(test_data)"
      ],
      "execution_count": 87,
      "outputs": []
    },
    {
      "cell_type": "code",
      "metadata": {
        "id": "orOyGHywYVIh"
      },
      "source": [
        "test_data=CustomImageDataset(None,test_data,reshape_img,one_hot)\n",
        "test_dataloador=DataLoader(test_data,batch_size=64,shuffle=False)"
      ],
      "execution_count": 88,
      "outputs": []
    },
    {
      "cell_type": "code",
      "metadata": {
        "id": "za2alihaYD6_"
      },
      "source": [
        "prd_lst=[]\n",
        "model.load_state_dict(torch.load('./model.pth'))\n",
        "model.eval()\n",
        "with torch.no_grad():\n",
        "    for X in test_dataloador:\n",
        "            X = X.to(device)\n",
        "\n",
        "            pred,vect = model(X)\n",
        "\n",
        "            ## 计算预测准确性\n",
        "            ls=nn.Softmax(dim=1)\n",
        "            a=ls(pred)\n",
        "            idx=torch.argmax(a,dim=1)\n",
        "            for i in range(0,len(idx)):\n",
        "              prd_lst.append(idx[i].item())"
      ],
      "execution_count": 115,
      "outputs": []
    },
    {
      "cell_type": "code",
      "metadata": {
        "id": "l5vNa4V5apS4"
      },
      "source": [
        "prd_lst"
      ],
      "execution_count": null,
      "outputs": []
    },
    {
      "cell_type": "markdown",
      "metadata": {
        "id": "v5mqFibcjAyq"
      },
      "source": [
        "PREDICT"
      ]
    },
    {
      "cell_type": "code",
      "metadata": {
        "id": "vd1bct5Nbsqd"
      },
      "source": [
        "import csv\n",
        "with open(\"starfish.csv\", 'w') as fp:\n",
        "    writer = csv.writer(fp)\n",
        "    writer.writerow(['ImageId', 'Label'])\n",
        "    for i, p in enumerate(prd_lst):\n",
        "        writer.writerow([i+1, p])"
      ],
      "execution_count": 117,
      "outputs": []
    },
    {
      "cell_type": "markdown",
      "metadata": {
        "id": "helo8EX_DZu_"
      },
      "source": [
        "## 现象\n",
        "1. 图片不归一化，loss=nan\n",
        "2. \n",
        "\n",
        "## 收获\n",
        "1. dataloader的使用(迭代器的使用)\n",
        "2. dataloador tansform function使用\n",
        "3. softmax在自己手写的时候 注意极端情况log(X)=inf"
      ]
    }
  ]
}