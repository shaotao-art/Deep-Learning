{
 "cells": [
  {
   "cell_type": "code",
   "execution_count": 2,
   "metadata": {},
   "outputs": [],
   "source": [
    "import torch\n",
    "import torch.nn as nn\n",
    "import torch.optim as optim\n",
    "import torch.nn.functional as F\n",
    "\n",
    "import time\n",
    "\n",
    "from torch.utils.data import DataLoader\n",
    "\n",
    "import torchvision\n",
    "import torchvision.datasets as datasets\n",
    "import torchvision.transforms as transforms"
   ]
  },
  {
   "cell_type": "code",
   "execution_count": null,
   "metadata": {},
   "outputs": [],
   "source": [
    "def save_checkpoint(data, path):\n",
    "    now = time.strftime(\"%D_%H:%M\")\n",
    "    path += now\n",
    "    print(\"saving checkpoint at {now}, path is '{path}'\")\n",
    "    torch.save(data, path)"
   ]
  },
  {
   "cell_type": "code",
   "execution_count": 7,
   "metadata": {},
   "outputs": [
    {
     "data": {
      "text/plain": [
       "'01/11/22_17:06'"
      ]
     },
     "execution_count": 7,
     "metadata": {},
     "output_type": "execute_result"
    }
   ],
   "source": [
    "def load_checkpoint(checkpoint, model, optimizer):\n",
    "    print(\"loading checkpoint\")\n",
    "    model.load_state_dict(checkpoint[\"state_dict\"])\n",
    "    optimizer.load_state_dict(checkpoint[optim])"
   ]
  },
  {
   "cell_type": "code",
   "execution_count": null,
   "metadata": {},
   "outputs": [],
   "source": [
    "# you can save more than the model, but also the optim,lr,...\n",
    "model = torchvision.models.vgg19(pretrained=False)\n",
    "optimizer = optim.Adam(model.parameters, lr=1e-3, betas=[0.5,0.999])\n",
    "\n",
    "checkpoint = {\n",
    "    \"state_dic\":model.state_dict(),\n",
    "    \"optim\":optimizer\n",
    "}\n",
    "\n",
    "\n"
   ]
  }
 ],
 "metadata": {
  "interpreter": {
   "hash": "3af478167759ae4c710e12d24127bdfea349371295ae8f284cff01b249577fd9"
  },
  "kernelspec": {
   "display_name": "Python 3.7.11 64-bit ('snake': conda)",
   "language": "python",
   "name": "python3"
  },
  "language_info": {
   "codemirror_mode": {
    "name": "ipython",
    "version": 3
   },
   "file_extension": ".py",
   "mimetype": "text/x-python",
   "name": "python",
   "nbconvert_exporter": "python",
   "pygments_lexer": "ipython3",
   "version": "3.7.11"
  },
  "orig_nbformat": 4
 },
 "nbformat": 4,
 "nbformat_minor": 2
}
