{
 "cells": [
  {
   "cell_type": "code",
   "execution_count": 2,
   "metadata": {},
   "outputs": [],
   "source": [
    "import torch\n",
    "import torch.optim as optim\n",
    "import time\n",
    "import torchvision"
   ]
  },
  {
   "cell_type": "markdown",
   "source": [
    "* use **.state_dict()** to get model's params\n",
    "* you can save model and optimizer's params at the same time (put them into a dict)\n",
    "* use **torch.save** to saving and **torch.load** to loading"
   ],
   "metadata": {
    "collapsed": false,
    "pycharm": {
     "name": "#%% md\n"
    }
   }
  },
  {
   "cell_type": "code",
   "execution_count": null,
   "outputs": [],
   "source": [
    "def save_checkpoint(data, path=\"model.pth.tar\"):\n",
    "    print(\"=> saving model !\")\n",
    "    now = time.strftime(\"%D_%H:%M\")\n",
    "    print(f\"saving checkpoint at {now}, path is '{path}'\")\n",
    "    torch.save(data, path)"
   ],
   "metadata": {
    "collapsed": false,
    "pycharm": {
     "name": "#%%\n"
    }
   }
  },
  {
   "cell_type": "code",
   "execution_count": 7,
   "outputs": [
    {
     "data": {
      "text/plain": [
       "'01/11/22_17:06'"
      ]
     },
     "execution_count": 7,
     "metadata": {},
     "output_type": "execute_result"
    }
   ],
   "source": [
    "def load_checkpoint(path, model, optimizer):\n",
    "    print(\"=>loading model !\")\n",
    "    checkpoint = torch.load(path)\n",
    "    model.load_state_dict(checkpoint[\"state_dict\"])\n",
    "    optimizer.load_state_dict(checkpoint[optim])"
   ],
   "metadata": {
    "collapsed": false,
    "pycharm": {
     "name": "#%%\n"
    }
   }
  },
  {
   "cell_type": "code",
   "execution_count": null,
   "outputs": [],
   "source": [
    "# you can save more than the model, but also the optim,lr,...\n",
    "model = torchvision.models.vgg19(pretrained=False)\n",
    "optimizer = optim.Adam(model.parameters, lr=1e-3, betas=(0.5,0.999))\n",
    "\n",
    "checkpoint = {\n",
    "    \"state_dic\":model.state_dict(),\n",
    "    \"optim\":optimizer.state_dict()\n",
    "}"
   ],
   "metadata": {
    "collapsed": false,
    "pycharm": {
     "name": "#%%\n"
    }
   }
  }
 ],
 "metadata": {
  "interpreter": {
   "hash": "3af478167759ae4c710e12d24127bdfea349371295ae8f284cff01b249577fd9"
  },
  "kernelspec": {
   "display_name": "Python 3.7.11 64-bit ('snake': conda)",
   "language": "python",
   "name": "python3"
  },
  "language_info": {
   "codemirror_mode": {
    "name": "ipython",
    "version": 3
   },
   "file_extension": ".py",
   "mimetype": "text/x-python",
   "name": "python",
   "nbconvert_exporter": "python",
   "pygments_lexer": "ipython3",
   "version": "3.7.11"
  },
  "orig_nbformat": 4
 },
 "nbformat": 4,
 "nbformat_minor": 2
}