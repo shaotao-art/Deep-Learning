{
 "cells": [
  {
   "cell_type": "code",
   "execution_count": 1,
   "metadata": {},
   "outputs": [],
   "source": [
    "from torch.utils.tensorboard import SummaryWriter"
   ]
  },
  {
   "cell_type": "code",
   "execution_count": null,
   "metadata": {},
   "outputs": [],
   "source": [
    "writer = SummaryWriter(f\"dic_name\")\n",
    "\n",
    "writer.add_image(tag='name', img_tensor=img_data, global_step=step)\n",
    "writer.add_histogram(tag=\"fc1_params\", values=model.params, global_step=step)\n",
    "writer.add_scalar(tag=\"scalar_name\", scalar_value=loss, global_step=step)\n",
    "writer.add_hparams(hparam_dict={\"lr\":lr, \"batch_size\":batch_size}, \n",
    "                   metric_dict={\"loss\":loss, \"acc\":acc}\n",
    ")\n",
    "\"\"\"\n",
    "# ========================================================== #\n",
    "################### why we need tensorboard ##################\n",
    "1. easily know the learning process\n",
    "    using add_scalar to plot loss and acc to steps\n",
    "\n",
    "2. degbug the network\n",
    "    using add_histogram to track the weight, \n",
    "    or plot the network's params using add_image\n",
    "    we can tell whether the network is learning by the img of params\n",
    "\n",
    "3. do hyperparamter searching\n",
    "    using add_hyparams to choose the best hyparams\n",
    "    \n",
    "\"\"\""
   ]
  }
 ],
 "metadata": {
  "interpreter": {
   "hash": "3af478167759ae4c710e12d24127bdfea349371295ae8f284cff01b249577fd9"
  },
  "kernelspec": {
   "display_name": "Python 3.7.11 64-bit ('snake': conda)",
   "language": "python",
   "name": "python3"
  },
  "language_info": {
   "codemirror_mode": {
    "name": "ipython",
    "version": 3
   },
   "file_extension": ".py",
   "mimetype": "text/x-python",
   "name": "python",
   "nbconvert_exporter": "python",
   "pygments_lexer": "ipython3",
   "version": "3.7.11"
  },
  "orig_nbformat": 4
 },
 "nbformat": 4,
 "nbformat_minor": 2
}
