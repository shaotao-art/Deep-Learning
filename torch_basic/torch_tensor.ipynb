{
 "cells": [
  {
   "cell_type": "code",
   "execution_count": 1,
   "metadata": {},
   "outputs": [],
   "source": [
    "import torch"
   ]
  },
  {
   "cell_type": "markdown",
   "metadata": {},
   "source": [
    "## get divice"
   ]
  },
  {
   "cell_type": "code",
   "execution_count": 2,
   "metadata": {},
   "outputs": [
    {
     "name": "stdout",
     "output_type": "stream",
     "text": [
      "cuda\n"
     ]
    }
   ],
   "source": [
    "device = \"cuda\" if torch.cuda.is_available() else \"cpu\"\n",
    "print(device)"
   ]
  },
  {
   "cell_type": "markdown",
   "metadata": {},
   "source": [
    "## get information about tensor"
   ]
  },
  {
   "cell_type": "code",
   "execution_count": 3,
   "metadata": {},
   "outputs": [
    {
     "name": "stdout",
     "output_type": "stream",
     "text": [
      "tensor([[1., 2., 3.],\n",
      "        [2., 5., 6.]], device='cuda:0', requires_grad=True)\n"
     ]
    }
   ],
   "source": [
    "my_tensor = torch.tensor([[1,2,3],[2,5,6]], device=device,\n",
    "                                            dtype=torch.float32,\n",
    "                                            requires_grad=True)\n",
    "\n",
    "print(my_tensor)"
   ]
  },
  {
   "cell_type": "code",
   "execution_count": 4,
   "metadata": {},
   "outputs": [
    {
     "name": "stdout",
     "output_type": "stream",
     "text": [
      "torch.float32\n",
      "cuda:0\n",
      "True\n",
      "torch.Size([2, 3])\n",
      "2\n",
      "tensor([1., 2., 3., 5., 6.], device='cuda:0', grad_fn=<Unique2Backward0>)\n",
      "6\n"
     ]
    }
   ],
   "source": [
    "print(my_tensor.dtype)\n",
    "print(my_tensor.device)\n",
    "print(my_tensor.requires_grad)\n",
    "print(my_tensor.shape)\n",
    "print(my_tensor.ndim)\n",
    "print(my_tensor.unique())\n",
    "print(my_tensor.numel())"
   ]
  },
  {
   "cell_type": "markdown",
   "metadata": {},
   "source": [
    "## create tensor and vector"
   ]
  },
  {
   "cell_type": "code",
   "execution_count": 5,
   "metadata": {},
   "outputs": [
    {
     "data": {
      "text/plain": [
       "tensor([[-0.3401, -1.6002, -0.1423, -0.4935],\n",
       "        [ 0.4301, -0.6436, -1.4340,  0.0108],\n",
       "        [ 0.2146,  0.8408,  0.9863, -0.3718]])"
      ]
     },
     "execution_count": 5,
     "metadata": {},
     "output_type": "execute_result"
    }
   ],
   "source": [
    "# 内存里存的是什么 就是什么\n",
    "x = torch.empty((3,4))\n",
    "x = torch.ones((3,4))\n",
    "x = torch.zeros((3,4))\n",
    "x = torch.eye(3)\n",
    "x = torch.rand((3, 4)) # uniform 0-1\n",
    "x = torch.randn((3, 4)) # normal distribution\n",
    "\n",
    "x"
   ]
  },
  {
   "cell_type": "code",
   "execution_count": 6,
   "metadata": {},
   "outputs": [
    {
     "name": "stdout",
     "output_type": "stream",
     "text": [
      "tensor([[ 2.0407, -0.1745,  0.7820,  0.3975],\n",
      "        [-1.3017, -0.5491,  0.2158,  0.8316],\n",
      "        [-0.0971, -0.4589,  1.0497,  0.3306]])\n",
      "tensor([ 2.0407, -0.5491,  1.0497])\n",
      "tensor([-0.1745,  0.2158,  0.3306])\n",
      "tensor([0.0877, 0.9065, 0.3014, 0.2502])\n",
      "tensor([[0.0877, 0.0000, 0.0000, 0.0000],\n",
      "        [0.0000, 0.9065, 0.0000, 0.0000],\n",
      "        [0.0000, 0.0000, 0.3014, 0.0000],\n",
      "        [0.0000, 0.0000, 0.0000, 0.2502]])\n"
     ]
    }
   ],
   "source": [
    "x = torch.randn((3,4))\n",
    "print(x)\n",
    "# choose the diag of given matrix\n",
    "print(torch.diag(x,diagonal=0))\n",
    "print(torch.diag(x,diagonal=1))\n",
    "\n",
    "# get a square matrix where the given vector is its diag\n",
    "x = torch.rand((4,))\n",
    "print(x)\n",
    "print(torch.diag(x,diagonal=0))\n"
   ]
  },
  {
   "cell_type": "code",
   "execution_count": 7,
   "metadata": {},
   "outputs": [
    {
     "name": "stdout",
     "output_type": "stream",
     "text": [
      "tensor([5])\n",
      "torch.Size([60])\n"
     ]
    }
   ],
   "source": [
    "# init vector\n",
    "x = torch.arange(start=5, end=10, step=7)\n",
    "print(x)\n",
    "\n",
    "# in linespace, step define the len of tensor\n",
    "x = torch.linspace(start=0, end = 1, steps=60)\n",
    "print(x.shape) "
   ]
  },
  {
   "cell_type": "code",
   "execution_count": 8,
   "metadata": {},
   "outputs": [
    {
     "name": "stdout",
     "output_type": "stream",
     "text": [
      "tensor([[1.0529e+03, 4.5720e-41, 3.4704e-08, 3.0721e-41],\n",
      "        [       nan, 0.0000e+00, 1.7443e+28, 7.2326e+11],\n",
      "        [2.7253e+20, 1.7728e+28, 1.4226e-13, 6.2608e+22]])\n",
      "tensor([[0.8728, 0.9680, 0.8959, 0.9163],\n",
      "        [1.0748, 1.0244, 0.9948, 1.2441],\n",
      "        [1.0633, 1.0853, 0.9128, 1.1133]])\n",
      "tensor(1.0138) tensor(0.1088)\n",
      "tensor(2.8219)\n"
     ]
    }
   ],
   "source": [
    "x = torch.empty(3, 4)\n",
    "print(x)\n",
    "\n",
    "# make the matrix to the given mean and std\n",
    "y = x.normal_(mean=1,std=0.1) \n",
    "print(y)\n",
    "print(torch.mean(y),torch.std(y))\n",
    "\n",
    "y = x.uniform_(2, 4) # make the matrix into uniform distr \n",
    "print(y.mean())"
   ]
  },
  {
   "cell_type": "markdown",
   "metadata": {},
   "source": [
    "## dtypes of tensor "
   ]
  },
  {
   "cell_type": "code",
   "execution_count": 9,
   "metadata": {},
   "outputs": [
    {
     "name": "stdout",
     "output_type": "stream",
     "text": [
      "torch.bool\n",
      "torch.int16\n",
      "torch.int64\n",
      "torch.float16\n",
      "torch.float32\n",
      "torch.float64\n"
     ]
    }
   ],
   "source": [
    "# convert tensor typr\n",
    "my_tensor = torch.randn((3,4))\n",
    "\n",
    "print(my_tensor.bool().dtype)\n",
    "print(my_tensor.short().dtype)\n",
    "print(my_tensor.long().dtype)\n",
    "print(my_tensor.half().dtype)\n",
    "print(my_tensor.float().dtype)\n",
    "print(my_tensor.double().dtype)"
   ]
  },
  {
   "cell_type": "markdown",
   "metadata": {},
   "source": [
    "## convert between tensor and numpy"
   ]
  },
  {
   "cell_type": "code",
   "execution_count": 10,
   "metadata": {},
   "outputs": [],
   "source": [
    "# read tentor from np or convert tentor to np\n",
    "import numpy as np\n",
    "x = np.arange(4)\n",
    "tentor = torch.from_numpy(x)\n",
    "x = tentor.numpy()"
   ]
  },
  {
   "cell_type": "markdown",
   "metadata": {},
   "source": [
    "## basic computation"
   ]
  },
  {
   "cell_type": "code",
   "execution_count": 11,
   "metadata": {},
   "outputs": [
    {
     "name": "stdout",
     "output_type": "stream",
     "text": [
      "tensor([0, 1, 2, 3]) tensor([4, 5, 6, 7])\n",
      "tensor([ 4,  6,  8, 10])\n",
      "tensor([-4, -4, -4, -4])\n",
      "tensor([ 0,  5, 12, 21])\n",
      "tensor([0.0000, 0.2000, 0.3333, 0.4286])\n"
     ]
    }
   ],
   "source": [
    "# basic math\n",
    "x = torch.arange(0,4)\n",
    "y = torch.arange(4,8)\n",
    "# element wise\n",
    "print(x, y)\n",
    "print(x + y)\n",
    "print(x - y)\n",
    "print(x * y)\n",
    "print(x / y)"
   ]
  },
  {
   "cell_type": "code",
   "execution_count": 12,
   "metadata": {},
   "outputs": [
    {
     "name": "stdout",
     "output_type": "stream",
     "text": [
      "tensor(38)\n"
     ]
    }
   ],
   "source": [
    "# dot product between vectors\n",
    "print(torch.dot(x, y)) "
   ]
  },
  {
   "cell_type": "markdown",
   "metadata": {},
   "source": [
    "## Matrix computation"
   ]
  },
  {
   "cell_type": "code",
   "execution_count": 13,
   "metadata": {},
   "outputs": [
    {
     "name": "stdout",
     "output_type": "stream",
     "text": [
      "tensor([[1.9517, 1.6379, 1.7771, 1.6023, 1.7179],\n",
      "        [0.8889, 0.8461, 0.9744, 0.8472, 0.9397],\n",
      "        [0.7846, 0.9553, 0.9314, 0.7398, 0.8064]])\n",
      "tensor([[1.4201, 1.0848, 1.8519],\n",
      "        [0.9973, 0.7317, 1.3530],\n",
      "        [0.5393, 0.4708, 0.9267]])\n"
     ]
    }
   ],
   "source": [
    "x = torch.rand((3,4))\n",
    "y = torch.rand((4, 5))\n",
    "# matrix mutiple\n",
    "print(torch.mm(x, y))\n",
    "\n",
    "x =  torch.rand((3,3))\n",
    "# matrix power( three matrix mutiple, so it has to be square)\n",
    "print(x.matrix_power(3))"
   ]
  },
  {
   "cell_type": "code",
   "execution_count": 14,
   "metadata": {},
   "outputs": [
    {
     "name": "stdout",
     "output_type": "stream",
     "text": [
      "torch.Size([8, 3, 5])\n"
     ]
    }
   ],
   "source": [
    "batch_size = 8\n",
    "m = 3\n",
    "n = 4\n",
    "p = 5\n",
    "x = torch.rand((batch_size,m,n))\n",
    "y = torch.rand((batch_size,n,p))\n",
    "# mutiple in each sample\n",
    "print(torch.bmm(x,y).shape)"
   ]
  },
  {
   "cell_type": "code",
   "execution_count": 15,
   "metadata": {},
   "outputs": [
    {
     "name": "stdout",
     "output_type": "stream",
     "text": [
      "tensor([[0.7316, 0.9577, 0.5964, 0.2414],\n",
      "        [0.2626, 0.2511, 0.5810, 0.1232],\n",
      "        [0.3198, 0.6263, 0.8598, 0.4782]]) tensor([[0.1181, 0.6759, 0.9828, 0.1383]])\n",
      "tensor([[ 0.6135,  0.2818, -0.3864,  0.1031],\n",
      "        [ 0.1445, -0.4248, -0.4017, -0.0151],\n",
      "        [ 0.2018, -0.0496, -0.1230,  0.3399]])\n"
     ]
    }
   ],
   "source": [
    "# boardcasting , operation between matrix and vector\n",
    "x = torch.rand((3, 4))\n",
    "y = torch.rand((1, 4))\n",
    "print(x, y)\n",
    "print(x - y)"
   ]
  },
  {
   "cell_type": "markdown",
   "metadata": {},
   "source": [
    "## other computation"
   ]
  },
  {
   "cell_type": "code",
   "execution_count": 16,
   "metadata": {},
   "outputs": [
    {
     "name": "stdout",
     "output_type": "stream",
     "text": [
      "tensor([[-0.2366,  1.5313, -2.0233,  0.1216],\n",
      "        [-1.8623, -0.8286, -1.6883,  0.1865],\n",
      "        [-0.8206, -1.2529, -0.7821, -0.4210]])\n",
      "tensor([-2.0233, -1.8623, -1.2529]) tensor([2, 0, 1])\n",
      "tensor(1.5313)\n",
      "tensor([2, 0, 1])\n",
      "tensor(1)\n"
     ]
    }
   ],
   "source": [
    "x = torch.randn((3,4))\n",
    "print(x)\n",
    "values, indices = torch.max(x, dim=0)\n",
    "values, indices = torch.min(x, dim=1)\n",
    "print(values, indices)\n",
    "max_value = torch.max(x)\n",
    "print(max_value)\n",
    "\n",
    "# argmin return the second value in max\n",
    "max_idx = torch.argmax(x, dim=0)\n",
    "min_idx = torch.argmin(x, dim=1)\n",
    "print(min_idx)\n",
    "\n",
    "# for 2d tensor without specific dim\n",
    "print(torch.argmax(x))  "
   ]
  },
  {
   "cell_type": "code",
   "execution_count": 17,
   "metadata": {},
   "outputs": [
    {
     "name": "stdout",
     "output_type": "stream",
     "text": [
      "tensor([[0.2366, 1.5313, 2.0233, 0.1216],\n",
      "        [1.8623, 0.8286, 1.6883, 0.1865],\n",
      "        [0.8206, 1.2529, 0.7821, 0.4210]]) tensor([-0.6070, -4.1926, -3.2766])\n"
     ]
    }
   ],
   "source": [
    "abs_x = torch.abs(x)\n",
    "sum_x = torch.sum(x, dim=1)\n",
    "print(abs_x, sum_x)"
   ]
  },
  {
   "cell_type": "code",
   "execution_count": 18,
   "metadata": {},
   "outputs": [
    {
     "data": {
      "text/plain": [
       "tensor([[-0.2000,  0.4000, -0.2000,  0.1216],\n",
       "        [-0.2000, -0.2000, -0.2000,  0.1865],\n",
       "        [-0.2000, -0.2000, -0.2000, -0.2000]])"
      ]
     },
     "execution_count": 18,
     "metadata": {},
     "output_type": "execute_result"
    }
   ],
   "source": [
    "# if x < min; x = min . if x > max ; then x = max . else x = x \n",
    "torch.clamp(x, min=-0.2, max=0.4) "
   ]
  },
  {
   "cell_type": "code",
   "execution_count": 19,
   "metadata": {},
   "outputs": [],
   "source": [
    "# you can choose return one value or two\n",
    "values, indices = torch.sort(x, dim=0, descending=True )\n",
    "values =  torch.sort(x, dim=0, descending=True )"
   ]
  },
  {
   "cell_type": "code",
   "execution_count": 20,
   "metadata": {},
   "outputs": [
    {
     "name": "stdout",
     "output_type": "stream",
     "text": [
      "tensor([ True, False, False,  True])\n",
      "tensor(2)\n",
      "tensor(True)\n",
      "tensor(False)\n"
     ]
    }
   ],
   "source": [
    "# operation in bool type\n",
    "x = torch.tensor([1,0,0,2], dtype=torch.bool)\n",
    "print(x)\n",
    "print(torch.sum(x))\n",
    "# any element is ture return true else flase\n",
    "print(x.any())\n",
    "# all elements are true return true else flase\n",
    "print(x.all())"
   ]
  },
  {
   "cell_type": "markdown",
   "metadata": {},
   "source": [
    "## index matrix"
   ]
  },
  {
   "cell_type": "code",
   "execution_count": 21,
   "metadata": {},
   "outputs": [
    {
     "name": "stdout",
     "output_type": "stream",
     "text": [
      "tensor([ 0.6143, -0.3435,  0.6780,  0.5277])\n",
      "tensor([ 0.6143, -0.1837,  1.0896, -0.5210, -0.2020, -0.9115, -1.5047, -0.6422,\n",
      "         0.6635,  0.0694, -0.0300,  0.0466,  0.0604, -1.1941,  2.4532, -0.5146])\n"
     ]
    }
   ],
   "source": [
    "batch_size = 16\n",
    "feature = 4\n",
    "samples = torch.randn((batch_size,feature))\n",
    "\n",
    "print(samples[0])\n",
    "print(samples[:, 0])\n",
    "samples[0,0]=100"
   ]
  },
  {
   "cell_type": "code",
   "execution_count": 22,
   "metadata": {},
   "outputs": [
    {
     "name": "stdout",
     "output_type": "stream",
     "text": [
      "tensor([0, 2, 4, 6, 8])\n",
      "tensor([2, 6, 8])\n"
     ]
    }
   ],
   "source": [
    "# use one list to select in vector\n",
    "x = torch.arange(0,10,2)\n",
    "idx = [1,3,4]\n",
    "print(x)\n",
    "print(x[idx])"
   ]
  },
  {
   "cell_type": "code",
   "execution_count": 23,
   "metadata": {},
   "outputs": [
    {
     "name": "stdout",
     "output_type": "stream",
     "text": [
      "tensor([[-1.1144, -1.2844,  0.4159, -0.6050],\n",
      "        [ 2.0439,  0.6659, -0.6165,  0.8448],\n",
      "        [ 0.0809, -1.5831, -1.3097,  0.1721]])\n",
      "tensor([-1.2844, -0.6050,  0.8448])\n"
     ]
    }
   ],
   "source": [
    "# use two lists to index 2d tensor\n",
    "x = torch.randn((3,4))\n",
    "row = [0, 0, 1]\n",
    "col = [1, 3, 3]\n",
    "print(x)\n",
    "print(x[row,col])"
   ]
  },
  {
   "cell_type": "code",
   "execution_count": 24,
   "metadata": {},
   "outputs": [
    {
     "name": "stdout",
     "output_type": "stream",
     "text": [
      "tensor([0.4159, 0.6659, 0.8448, 0.0809, 0.1721])\n"
     ]
    }
   ],
   "source": [
    "filt = (x > 0) & (x < 1)\n",
    "print(x[filt])"
   ]
  },
  {
   "cell_type": "markdown",
   "metadata": {},
   "source": [
    "## reshape Matrix"
   ]
  },
  {
   "cell_type": "code",
   "execution_count": 25,
   "metadata": {},
   "outputs": [
    {
     "name": "stdout",
     "output_type": "stream",
     "text": [
      "torch.Size([10])\n",
      "tensor([[0, 1, 2, 3, 4, 5, 6, 7, 8, 9]])\n",
      "torch.Size([1, 10])\n",
      "tensor([[[0],\n",
      "         [1],\n",
      "         [2],\n",
      "         [3],\n",
      "         [4],\n",
      "         [5],\n",
      "         [6],\n",
      "         [7],\n",
      "         [8],\n",
      "         [9]]])\n",
      "torch.Size([1, 10, 1])\n",
      "torch.Size([10, 1])\n",
      "torch.Size([1, 10])\n"
     ]
    }
   ],
   "source": [
    "# squeeze/unsqueeze  remove/ delete one dimension in tensor\n",
    "x = torch.arange(10)\n",
    "print(x.shape)\n",
    "x = x.unsqueeze(dim=0)\n",
    "print(x)\n",
    "print(x.shape)\n",
    "x = x.unsqueeze(dim=-1)\n",
    "print(x)\n",
    "print(x.shape)\n",
    "print(x.squeeze(0).shape)\n",
    "print(x.squeeze(-1).shape)"
   ]
  },
  {
   "cell_type": "code",
   "execution_count": 26,
   "metadata": {},
   "outputs": [
    {
     "name": "stdout",
     "output_type": "stream",
     "text": [
      "tensor([[True, True, True, True, True, True],\n",
      "        [True, True, True, True, True, True]])\n"
     ]
    }
   ],
   "source": [
    "# reshape tentor\n",
    "x = torch.randn((3, 4))\n",
    "x1 = x.reshape((2,6))\n",
    "x2 = x.view(2,6)\n",
    "print(x1 == x2)"
   ]
  },
  {
   "cell_type": "code",
   "execution_count": 27,
   "metadata": {},
   "outputs": [
    {
     "name": "stdout",
     "output_type": "stream",
     "text": [
      "torch.Size([4, 5])\n",
      "torch.Size([2, 10])\n"
     ]
    }
   ],
   "source": [
    "# concate tensor in specific dim\n",
    "x1 = torch.randn((2, 5))\n",
    "x2 = torch.randn((2,5))\n",
    "print(torch.cat([x1, x2], dim=0).shape)\n",
    "print(torch.cat([x1, x2], dim=1).shape)"
   ]
  },
  {
   "cell_type": "code",
   "execution_count": 28,
   "metadata": {},
   "outputs": [
    {
     "name": "stdout",
     "output_type": "stream",
     "text": [
      "torch.Size([30])\n",
      "torch.Size([2, 15])\n"
     ]
    }
   ],
   "source": [
    "x1 = torch.randn((2, 5, 3))\n",
    "# stretch x into vector\n",
    "print(x1.view(-1).shape) \n",
    "# reshape into (2, X)\n",
    "print(x1.view(2, -1).shape)"
   ]
  },
  {
   "cell_type": "code",
   "execution_count": 29,
   "metadata": {},
   "outputs": [
    {
     "name": "stdout",
     "output_type": "stream",
     "text": [
      "torch.Size([2, 3, 5])\n"
     ]
    }
   ],
   "source": [
    "# switch the 1, 2 axia\n",
    "z = x1.permute(0, 2, 1)\n",
    "print(z.shape)"
   ]
  }
 ],
 "metadata": {
  "interpreter": {
   "hash": "13f610e7899955f82c383d5d16d64fe792f3a348eb274062e196f5bab02fa146"
  },
  "kernelspec": {
   "display_name": "Python 3.8.12 64-bit ('dl': conda)",
   "language": "python",
   "name": "python3"
  },
  "language_info": {
   "codemirror_mode": {
    "name": "ipython",
    "version": 3
   },
   "file_extension": ".py",
   "mimetype": "text/x-python",
   "name": "python",
   "nbconvert_exporter": "python",
   "pygments_lexer": "ipython3",
   "version": "3.7.11"
  },
  "orig_nbformat": 4
 },
 "nbformat": 4,
 "nbformat_minor": 2
}
